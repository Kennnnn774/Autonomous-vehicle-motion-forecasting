{
 "cells": [
  {
   "cell_type": "code",
   "execution_count": 1,
   "metadata": {
    "ExecuteTime": {
     "end_time": "2021-05-13T05:33:28.287622Z",
     "start_time": "2021-05-13T05:33:28.239993Z"
    }
   },
   "outputs": [],
   "source": [
    "import torch\n",
    "from torch.utils.data import Dataset, DataLoader, random_split\n",
    "import torch.optim as optim\n",
    "import torch.nn as nn\n",
    "import torch.nn.functional as F\n",
    "import os, os.path \n",
    "import numpy \n",
    "import pickle\n",
    "from glob import glob\n",
    "import pandas as pd\n",
    "import numpy as np\n",
    "import matplotlib.pyplot as plt\n",
    "from tqdm import tqdm\n",
    "\n",
    "\"\"\"Change to the data folder\"\"\"\n",
    "train_path = \"../data/new_train\"\n",
    "val_path = '../data/new_val_in/new_val_in'"
   ]
  },
  {
   "cell_type": "code",
   "execution_count": 2,
   "metadata": {
    "ExecuteTime": {
     "end_time": "2021-05-13T05:33:28.315612Z",
     "start_time": "2021-05-13T05:33:28.294607Z"
    }
   },
   "outputs": [],
   "source": [
    "class ArgoverseDataset(Dataset):\n",
    "    \n",
    "    \"\"\"Dataset class for Argoverse\"\"\"\n",
    "    def __init__(self, data_path: str, transform=None):\n",
    "        super(ArgoverseDataset, self).__init__()\n",
    "        self.data_path = data_path\n",
    "        self.transform = transform\n",
    "        self.pkl_list = glob(os.path.join(self.data_path, '*'))\n",
    "        self.pkl_list.sort()\n",
    "        \n",
    "    def __len__(self): #len(val_dataset)\n",
    "        return len(self.pkl_list)\n",
    "    \n",
    "    def __getitem__(self, idx): #val_dataset[0]\n",
    "        pkl_path = self.pkl_list[idx]\n",
    "        with open(pkl_path, 'rb') as f:\n",
    "            data = pickle.load(f)\n",
    "        if self.transform:\n",
    "            data = self.transform(data)\n",
    "        return data"
   ]
  },
  {
   "cell_type": "code",
   "execution_count": 3,
   "metadata": {
    "ExecuteTime": {
     "end_time": "2021-05-13T05:33:29.075700Z",
     "start_time": "2021-05-13T05:33:28.319689Z"
    }
   },
   "outputs": [
    {
     "name": "stdout",
     "output_type": "stream",
     "text": [
      "205942 3200\n"
     ]
    }
   ],
   "source": [
    "init_dataset = ArgoverseDataset(data_path=train_path) \n",
    "val_dataset  = ArgoverseDataset(data_path=val_path) \n",
    "print(len(init_dataset), len(val_dataset))"
   ]
  },
  {
   "cell_type": "code",
   "execution_count": 4,
   "metadata": {},
   "outputs": [
    {
     "name": "stdout",
     "output_type": "stream",
     "text": [
      "[144160, 61782]\n"
     ]
    }
   ],
   "source": [
    "lengths = [int(len(init_dataset)*0.7) + 1, int(len(init_dataset)*0.3)]\n",
    "#lengths = [int(len(init_dataset)*0.2) + 1, int(len(init_dataset)*0.5), int(len(init_dataset)*0.3)]\n",
    "\n",
    "print(lengths)\n",
    "train_dataset, test_dataset = random_split(init_dataset, lengths)\n",
    "#print(len(small_train_dataset), len(test_dataset), len(val_dataset))"
   ]
  },
  {
   "cell_type": "code",
   "execution_count": 8,
   "metadata": {
    "ExecuteTime": {
     "end_time": "2021-05-13T05:33:29.106777Z",
     "start_time": "2021-05-13T05:33:29.077780Z"
    }
   },
   "outputs": [],
   "source": [
    "batch_sz = 14\n",
    "def my_collate(batch): #[scene['p_in'][scene['car_mask'].reshape(-1) == 1]]\n",
    "    \"\"\" collate lists of samples into batches, create [ batch_sz x agent_sz x seq_len x feature] \"\"\"\n",
    "    inp = [numpy.dstack([scene['p_in'], scene['v_in']]) for scene in batch]\n",
    "    out = [numpy.dstack([scene['p_out'], scene['v_out']]) for scene in batch]\n",
    "    inp = torch.FloatTensor(inp) #LongTensor\n",
    "    out = torch.FloatTensor(out) #LongTensor\n",
    "    return [inp, out]\n",
    "train_loader = DataLoader(train_dataset, batch_size=batch_sz, shuffle = True, collate_fn=my_collate, num_workers=0)"
   ]
  },
  {
   "cell_type": "code",
   "execution_count": 15,
   "metadata": {
    "ExecuteTime": {
     "end_time": "2021-05-13T07:01:23.962757Z",
     "start_time": "2021-05-13T07:01:23.925749Z"
    }
   },
   "outputs": [],
   "source": [
    "class base_model(nn.Module):\n",
    "    def __init__(self, input_size = 240):\n",
    "        super().__init__()\n",
    "        self.hidden_layer_size = 3\n",
    "        self.hidden_dim = 2048\n",
    "\n",
    "        self.lstm = nn.LSTM(input_size, self.hidden_dim, num_layers = self.hidden_layer_size, batch_first = True)\n",
    "\n",
    "        self.linear = nn.Linear(self.hidden_dim, 240, 1)\n",
    "\n",
    "\n",
    "    def forward(self, x):\n",
    "        x,_ = self.lstm(x)\n",
    "        print(x.shape)\n",
    "        #x = x.transpose(1, 2)\n",
    "        x = self.linear(x)\n",
    "        x = x.transpose(1, 2)\n",
    "        print(x.shape)\n",
    "        \n",
    "        return x\n",
    "    \n",
    "    def forward_test(self, x, steps = 30):\n",
    "        fut = []\n",
    "        h = torch.zeros((self.hidden_layer_size, len(x), self.hidden_dimen)).cuda()\n",
    "        c = torch.zeros((self.hidden_layer_size, len(x), self.hidden_dimen)).cuda()\n",
    "        for num_iter in steps:\n",
    "            x, (h, c) = self.lstm(x, (h, c))\n",
    "            x = x[:, -1:]\n",
    "            x = x.transpose(1, 2)\n",
    "            x = self.linear(x)\n",
    "            x = x.transpose(1, 2)\n",
    "            fut.append(x)\n",
    "        fut = torch.cat(fut, 1)\n",
    "        return fut"
   ]
  },
  {
   "cell_type": "code",
   "execution_count": 16,
   "metadata": {},
   "outputs": [
    {
     "name": "stdout",
     "output_type": "stream",
     "text": [
      "cuda\n",
      "base_model(\n",
      "  (lstm): LSTM(240, 2048, num_layers=3, batch_first=True)\n",
      "  (linear): Linear(in_features=2048, out_features=240, bias=True)\n",
      ")\n"
     ]
    }
   ],
   "source": [
    "device = torch.device(\"cuda\" if torch.cuda.is_available() else \"cpu\")\n",
    "print(device)\n",
    "model = base_model().cuda()\n",
    "loss_function = nn.MSELoss()\n",
    "optimizer = torch.optim.Adam(model.parameters(), lr=0.001)\n",
    "print(model)"
   ]
  },
  {
   "cell_type": "code",
   "execution_count": 17,
   "metadata": {
    "ExecuteTime": {
     "end_time": "2021-05-13T07:04:35.704706Z",
     "start_time": "2021-05-13T07:01:30.199929Z"
    }
   },
   "outputs": [
    {
     "name": "stdout",
     "output_type": "stream",
     "text": [
      "epoch 0\n",
      "torch.Size([14, 48, 2048])\n",
      "torch.Size([14, 48, 240])\n",
      "torch.Size([14, 240, 48])\n"
     ]
    },
    {
     "ename": "RuntimeError",
     "evalue": "shape '[-1, 30, 60, 4]' is invalid for input of size 20160",
     "output_type": "error",
     "traceback": [
      "\u001b[1;31m---------------------------------------------------------------------------\u001b[0m",
      "\u001b[1;31mRuntimeError\u001b[0m                              Traceback (most recent call last)",
      "\u001b[1;32m<ipython-input-17-928f70aa3e0f>\u001b[0m in \u001b[0;36m<module>\u001b[1;34m\u001b[0m\n\u001b[0;32m     15\u001b[0m \u001b[1;33m\u001b[0m\u001b[0m\n\u001b[0;32m     16\u001b[0m         \u001b[0my_pred\u001b[0m \u001b[1;33m=\u001b[0m \u001b[0mmodel\u001b[0m\u001b[1;33m(\u001b[0m\u001b[0mfull\u001b[0m\u001b[1;33m[\u001b[0m\u001b[1;33m:\u001b[0m\u001b[1;33m,\u001b[0m \u001b[1;33m:\u001b[0m\u001b[1;33m-\u001b[0m\u001b[1;36m1\u001b[0m\u001b[1;33m]\u001b[0m\u001b[1;33m)\u001b[0m\u001b[1;33m[\u001b[0m\u001b[1;33m:\u001b[0m\u001b[1;33m,\u001b[0m \u001b[1;33m-\u001b[0m\u001b[1;36m30\u001b[0m\u001b[1;33m:\u001b[0m\u001b[1;33m]\u001b[0m\u001b[1;33m\u001b[0m\u001b[1;33m\u001b[0m\u001b[0m\n\u001b[1;32m---> 17\u001b[1;33m         \u001b[0my_pred\u001b[0m \u001b[1;33m=\u001b[0m \u001b[0my_pred\u001b[0m\u001b[1;33m.\u001b[0m\u001b[0mreshape\u001b[0m\u001b[1;33m(\u001b[0m\u001b[1;33m(\u001b[0m\u001b[1;33m-\u001b[0m\u001b[1;36m1\u001b[0m\u001b[1;33m,\u001b[0m \u001b[1;36m30\u001b[0m\u001b[1;33m,\u001b[0m \u001b[1;36m60\u001b[0m\u001b[1;33m,\u001b[0m \u001b[1;36m4\u001b[0m\u001b[1;33m)\u001b[0m\u001b[1;33m)\u001b[0m\u001b[1;33m.\u001b[0m\u001b[0mtranspose\u001b[0m\u001b[1;33m(\u001b[0m\u001b[1;36m1\u001b[0m\u001b[1;33m,\u001b[0m \u001b[1;36m2\u001b[0m\u001b[1;33m)\u001b[0m\u001b[1;33m\u001b[0m\u001b[1;33m\u001b[0m\u001b[0m\n\u001b[0m\u001b[0;32m     18\u001b[0m \u001b[1;33m\u001b[0m\u001b[0m\n\u001b[0;32m     19\u001b[0m         \u001b[0mloss\u001b[0m \u001b[1;33m=\u001b[0m \u001b[0mloss_function\u001b[0m\u001b[1;33m(\u001b[0m\u001b[0my_pred\u001b[0m\u001b[1;33m,\u001b[0m \u001b[0mlabels\u001b[0m\u001b[1;33m)\u001b[0m\u001b[1;33m\u001b[0m\u001b[1;33m\u001b[0m\u001b[0m\n",
      "\u001b[1;31mRuntimeError\u001b[0m: shape '[-1, 30, 60, 4]' is invalid for input of size 20160"
     ]
    }
   ],
   "source": [
    "model.train()\n",
    "epochs = 20\n",
    "loss_ema = -1\n",
    "loss_ema_test = -1\n",
    "\n",
    "for i in range(epochs):\n",
    "    print('epoch', i)\n",
    "    #iterator = tqdm(train_loader, total=int(len(train_loader)))\n",
    "    for i_batch, sample_batch in enumerate(train_loader):\n",
    "        seq, labels = sample_batch\n",
    "        seq = seq.cuda()\n",
    "        labels = labels.cuda()\n",
    "        optimizer.zero_grad()\n",
    "        full = torch.cat([seq, labels], 2).transpose(1, 2).reshape((-1, 49, 240)).float()\n",
    "        \n",
    "        y_pred = model(full[:, :-1])[:, -30:]\n",
    "        y_pred = y_pred.reshape((-1, 30, 60, 4)).transpose(1, 2)\n",
    "        \n",
    "        loss = loss_function(y_pred, labels)\n",
    "        \n",
    "        optimizer.zero_grad()\n",
    "        loss.backward()\n",
    "        optimizer.step()\n",
    "        \n",
    "        if loss_ema < 0:\n",
    "            loss_ema = loss\n",
    "        loss_ema = loss_ema*0.99 + loss * 0.01\n",
    "        \n",
    "        with torch.no_grad():\n",
    "            y_pred_test = model.forward_test(seq.transpose(1,2).reshape(-1, 19, 240))\n",
    "            y_pred_test = y_full_pred.reshape((-1, 30, 60, 4)).transpose(1, 2)\n",
    "            loss_test= loss_function(y_pred_test, label)\n",
    "            if loss_ema_test < 0:\n",
    "                loss_ema_test = loss_test\n",
    "            loss_ema_test = loss_ema_test*0.99 + loss_test * 0.01\n",
    "            \n",
    "        print(\"Full loss\", epoch, i_batch, loss_ema.item(), loss.item())\n",
    "        print(\"Test loss\", epoch, i_batch, loss_ema_test.item(), loss_test.item())"
   ]
  },
  {
   "cell_type": "code",
   "execution_count": null,
   "metadata": {},
   "outputs": [],
   "source": [
    "torch.save(model.state_dict(), \"trial1.pt\")"
   ]
  }
 ],
 "metadata": {
  "kernelspec": {
   "display_name": "Python 3",
   "language": "python",
   "name": "python3"
  },
  "language_info": {
   "codemirror_mode": {
    "name": "ipython",
    "version": 3
   },
   "file_extension": ".py",
   "mimetype": "text/x-python",
   "name": "python",
   "nbconvert_exporter": "python",
   "pygments_lexer": "ipython3",
   "version": "3.8.5"
  },
  "toc": {
   "base_numbering": 1,
   "nav_menu": {},
   "number_sections": true,
   "sideBar": true,
   "skip_h1_title": false,
   "title_cell": "Table of Contents",
   "title_sidebar": "Contents",
   "toc_cell": false,
   "toc_position": {},
   "toc_section_display": true,
   "toc_window_display": false
  },
  "varInspector": {
   "cols": {
    "lenName": 16,
    "lenType": 16,
    "lenVar": 40
   },
   "kernels_config": {
    "python": {
     "delete_cmd_postfix": "",
     "delete_cmd_prefix": "del ",
     "library": "var_list.py",
     "varRefreshCmd": "print(var_dic_list())"
    },
    "r": {
     "delete_cmd_postfix": ") ",
     "delete_cmd_prefix": "rm(",
     "library": "var_list.r",
     "varRefreshCmd": "cat(var_dic_list()) "
    }
   },
   "types_to_exclude": [
    "module",
    "function",
    "builtin_function_or_method",
    "instance",
    "_Feature"
   ],
   "window_display": false
  }
 },
 "nbformat": 4,
 "nbformat_minor": 4
}
