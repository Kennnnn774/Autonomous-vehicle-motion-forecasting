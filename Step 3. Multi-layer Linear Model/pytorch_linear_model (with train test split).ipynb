{
 "cells": [
  {
   "cell_type": "code",
   "execution_count": 1,
   "metadata": {},
   "outputs": [],
   "source": [
    "import os, os.path \n",
    "import numpy \n",
    "from torch.utils.data import Dataset, DataLoader\n",
    "import pickle\n",
    "from glob import glob\n",
    "import pandas as pd\n",
    "import numpy as np\n",
    "import matplotlib.pyplot as plt\n",
    "from tqdm.notebook import tqdm\n",
    "import numpy as np\n",
    "import matplotlib\n",
    "import torch\n",
    "import torch.nn as nn\n",
    "import torch.nn.functional as F\n",
    "from torch.utils.data import Dataset, DataLoader, random_split\n",
    "from torch.utils.data import TensorDataset, DataLoader\n",
    "\n",
    "\"\"\"Change to the data folder\"\"\"\n",
    "train_path = \"C:/Users/Kennnnnnn/Desktop/CSE151B/CSE151 FINAL/new_train/new_train\"\n",
    "test_path = 'C:/Users/Kennnnnnn/Desktop/CSE151B/CSE151 FINAL/new_val_in/new_val_in'\n",
    "matplotlib.rcParams['savefig.dpi'] = 300"
   ]
  },
  {
   "cell_type": "code",
   "execution_count": 2,
   "metadata": {},
   "outputs": [],
   "source": [
    "class ArgoverseDataset(Dataset):\n",
    "    \"\"\"Dataset class for Argoverse\"\"\"\n",
    "    def __init__(self, data_path: str, transform=None):\n",
    "        super(ArgoverseDataset, self).__init__()\n",
    "        self.data_path = data_path\n",
    "        self.transform = transform\n",
    "        self.pkl_list = glob(os.path.join(self.data_path, '*'))\n",
    "        self.pkl_list.sort()\n",
    "    def __len__(self): #len(val_dataset)\n",
    "        return len(self.pkl_list)\n",
    "    def __getitem__(self, idx): #val_dataset[0]\n",
    "        pkl_path = self.pkl_list[idx]\n",
    "        with open(pkl_path, 'rb') as f:\n",
    "            data = pickle.load(f)\n",
    "        if self.transform:\n",
    "            data = self.transform(data)\n",
    "        return data"
   ]
  },
  {
   "cell_type": "code",
   "execution_count": 3,
   "metadata": {},
   "outputs": [],
   "source": [
    "train_dataset = ArgoverseDataset(data_path=train_path) \n",
    "test_dataset  = ArgoverseDataset(data_path=test_path) "
   ]
  },
  {
   "cell_type": "markdown",
   "metadata": {},
   "source": [
    "# Data Preprocessing"
   ]
  },
  {
   "cell_type": "code",
   "execution_count": 56,
   "metadata": {},
   "outputs": [
    {
     "data": {
      "text/plain": [
       "144159.4"
      ]
     },
     "execution_count": 56,
     "metadata": {},
     "output_type": "execute_result"
    }
   ],
   "source": [
    "len(train_dataset) *0.7"
   ]
  },
  {
   "cell_type": "markdown",
   "metadata": {},
   "source": [
    "## Data Splitting"
   ]
  },
  {
   "cell_type": "markdown",
   "metadata": {},
   "source": [
    "we want to perform 70/30 split on training dataset since the test dataset has no label"
   ]
  },
  {
   "cell_type": "code",
   "execution_count": 57,
   "metadata": {},
   "outputs": [],
   "source": [
    "#diff points\n",
    "#This is the training set after splitting\n",
    "train = []\n",
    "for i in range(144159):\n",
    "    val = train_dataset[i]\n",
    "    c_filter = val['car_mask'].reshape(-1) == 1\n",
    "    p_in = val['p_in'][c_filter]\n",
    "    p_out = val['p_out'][c_filter]\n",
    "    for c in range(len(p_in)):\n",
    "        in_out = np.diff(np.vstack((p_in[c], p_out[c])), axis=0).flatten()\n",
    "        train.append(in_out)\n",
    "train = np.array(train)"
   ]
  },
  {
   "cell_type": "code",
   "execution_count": 80,
   "metadata": {},
   "outputs": [],
   "source": [
    "#diff points\n",
    "#This is the testing set after splitting\n",
    "test_30 = []\n",
    "for i in range(144159,len(train_dataset)):\n",
    "    val = train_dataset[i]\n",
    "    c_filter = val['car_mask'].reshape(-1) == 1\n",
    "    p_in = val['p_in'][c_filter]\n",
    "    p_out = val['p_out'][c_filter]\n",
    "    for c in range(len(p_in)):\n",
    "        in_out = np.diff(np.vstack((p_in[c], p_out[c])), axis=0).flatten()\n",
    "        test_30.append(in_out)\n",
    "test_30 = np.array(test_30)"
   ]
  },
  {
   "cell_type": "markdown",
   "metadata": {},
   "source": [
    "# Training"
   ]
  },
  {
   "cell_type": "markdown",
   "metadata": {},
   "source": [
    "## Auto-regression model set up"
   ]
  },
  {
   "cell_type": "code",
   "execution_count": 24,
   "metadata": {},
   "outputs": [
    {
     "data": {
      "text/plain": [
       "device(type='cuda')"
      ]
     },
     "execution_count": 24,
     "metadata": {},
     "output_type": "execute_result"
    }
   ],
   "source": [
    "#Step up device: cuda or cpu\n",
    "device = torch.device(\"cuda\" if torch.cuda.is_available() else \"cpu\")\n",
    "device"
   ]
  },
  {
   "cell_type": "code",
   "execution_count": 59,
   "metadata": {},
   "outputs": [],
   "source": [
    "class Net(nn.Module):\n",
    "    \n",
    "    def __init__(self, column_size):\n",
    "        \n",
    "        super().__init__()\n",
    "        \n",
    "        self.size_lin1 = column_size // 2\n",
    "        self.size_lin2 = self.size_lin1 // 3\n",
    "\n",
    "        self.lin1 = nn.Linear(column_size, self.size_lin1)\n",
    "        self.lin2 = nn.Linear(self.size_lin1, self.size_lin2)\n",
    "        self.lin3 = nn.Linear(self.size_lin2, 1)\n",
    "        \n",
    "        self.activation = nn.Sigmoid()\n",
    "        \n",
    "    def forward(self, x):\n",
    "        x = F.relu(self.lin1(x))\n",
    "        x = F.relu(self.lin2(x))\n",
    "        return self.activation(self.lin3(x))\n",
    "    "
   ]
  },
  {
   "cell_type": "markdown",
   "metadata": {},
   "source": [
    "## Training with auto regression"
   ]
  },
  {
   "cell_type": "code",
   "execution_count": 58,
   "metadata": {},
   "outputs": [
    {
     "data": {
      "application/vnd.jupyter.widget-view+json": {
       "model_id": "7b661118236342f09a07b1792aab5541",
       "version_major": 2,
       "version_minor": 0
      },
      "text/plain": [
       "HBox(children=(FloatProgress(value=0.0, max=60.0), HTML(value='')))"
      ]
     },
     "metadata": {},
     "output_type": "display_data"
    },
    {
     "name": "stdout",
     "output_type": "stream",
     "text": [
      "\n"
     ]
    }
   ],
   "source": [
    "net_list = []\n",
    "\n",
    "for i in range(36, 36+60):\n",
    "    \n",
    "    net_list.append(Net(i).to(device))\n",
    "    \n",
    "for num in tqdm(range(60)):\n",
    "\n",
    "    in_train = torch.tensor(train[:, :36 + num]).type(torch.FloatTensor).to(device)\n",
    "    out_train = torch.tensor(train[:, 36: 36+ 1 + num]).type(torch.FloatTensor).to(device)\n",
    "\n",
    "    trainloader = DataLoader(TensorDataset(in_train[:, :36 + num], out_train[:, num: num+1]),\n",
    "                             batch_size= 512, drop_last=False)\n",
    "    \n",
    "    criterion = nn.MSELoss()\n",
    "    optimizer = torch.optim.Adam(net_list[num].parameters(), lr=0.01)\n",
    "\n",
    "    for epoch in range(5): \n",
    "    \n",
    "        net_list[num].train()\n",
    "        running_loss = 0.0\n",
    "        for i, data in enumerate(trainloader, 0):\n",
    "            inputs, labels = data \n",
    "            # zero the parameter gradients\n",
    "            optimizer.zero_grad()\n",
    "            outputs = net_list[num](inputs).to(device)\n",
    "            loss = criterion(outputs, labels)\n",
    "            loss.backward()\n",
    "            optimizer.step()\n"
   ]
  },
  {
   "cell_type": "code",
   "execution_count": 196,
   "metadata": {},
   "outputs": [
    {
     "data": {
      "text/plain": [
       "161945"
      ]
     },
     "execution_count": 196,
     "metadata": {},
     "output_type": "execute_result"
    }
   ],
   "source": [
    "num_parameters = 0\n",
    "for i in range(36, 36+60):\n",
    "    num_parameters += sum(p.numel() for p in Net(i).parameters())\n",
    "num_parameters"
   ]
  },
  {
   "cell_type": "markdown",
   "metadata": {},
   "source": [
    "## Prediction"
   ]
  },
  {
   "cell_type": "markdown",
   "metadata": {},
   "source": [
    "first of all, in_test should always be a numpy array"
   ]
  },
  {
   "cell_type": "code",
   "execution_count": 61,
   "metadata": {},
   "outputs": [],
   "source": [
    "#re run it for numpy array\n",
    "init_p = []\n",
    "in_test = []\n",
    "for i in range(144159,len(train_dataset)):\n",
    "    val = train_dataset[i]\n",
    "    c_filter = val['agent_id'] == val['track_id'][:, 0, 0]\n",
    "    p_in = val['p_in'][c_filter]\n",
    "    v_in = (val['v_in'][c_filter][:, :, 0]**2 + val['v_in'][c_filter][:, :, 1] ** 2)**0.5\n",
    "    for c in range(len(p_in)):\n",
    "        in_test.append(\n",
    "            np.diff(p_in[c], axis=0).flatten()\n",
    "        )\n",
    "        init_p.append(\n",
    "            p_in[c][-1]\n",
    "        )\n",
    "in_test = np.array(in_test)\n",
    "init_p = np.array(init_p)"
   ]
  },
  {
   "cell_type": "markdown",
   "metadata": {},
   "source": [
    "Creating prediction"
   ]
  },
  {
   "cell_type": "code",
   "execution_count": 62,
   "metadata": {},
   "outputs": [
    {
     "data": {
      "application/vnd.jupyter.widget-view+json": {
       "model_id": "261c20476b094c12bf0e42b993a1f619",
       "version_major": 2,
       "version_minor": 0
      },
      "text/plain": [
       "HBox(children=(FloatProgress(value=0.0, max=60.0), HTML(value='')))"
      ]
     },
     "metadata": {},
     "output_type": "display_data"
    },
    {
     "name": "stdout",
     "output_type": "stream",
     "text": [
      "\n"
     ]
    }
   ],
   "source": [
    "for i in tqdm(range(60)):\n",
    "    in_test_tensor = torch.tensor(in_test).type(torch.FloatTensor).to(device)\n",
    "    pred = net_list[i](in_test_tensor).to('cpu').detach().numpy().flatten()\n",
    "    in_test = np.insert(in_test, 36 + i, pred, axis=1)"
   ]
  },
  {
   "cell_type": "code",
   "execution_count": 63,
   "metadata": {},
   "outputs": [],
   "source": [
    "pred = in_test[:, 36:]"
   ]
  },
  {
   "cell_type": "code",
   "execution_count": 67,
   "metadata": {},
   "outputs": [],
   "source": [
    "# This is the coordinates of prediction\n",
    "x_pred = pred[:, list(range(0, 60, 2))]\n",
    "y_pred = pred[:, list(range(1, 61, 2))]"
   ]
  },
  {
   "cell_type": "code",
   "execution_count": 83,
   "metadata": {},
   "outputs": [],
   "source": [
    "#This is the corrdinates of actual number\n",
    "x_actu = test_30[:, list(range(0, 60, 2))]\n",
    "y_actu = test_30[:, list(range(1, 61, 2))]"
   ]
  },
  {
   "cell_type": "code",
   "execution_count": 120,
   "metadata": {},
   "outputs": [],
   "source": [
    "x_pred[:, 0] = x_pred[:, 0] + init_p[:, 0]"
   ]
  },
  {
   "cell_type": "code",
   "execution_count": 121,
   "metadata": {},
   "outputs": [],
   "source": [
    "y_pred[:, 0] = y_pred[:, 0] + init_p[:, 1]"
   ]
  },
  {
   "cell_type": "code",
   "execution_count": 122,
   "metadata": {},
   "outputs": [],
   "source": [
    "x_pred = x_pred.cumsum(1)\n",
    "y_pred = y_pred.cumsum(1)"
   ]
  },
  {
   "cell_type": "code",
   "execution_count": 197,
   "metadata": {},
   "outputs": [],
   "source": [
    "df = np.zeros((61783, 60))\n",
    "num = 0\n",
    "for i in range(30):\n",
    "    df[:, num] = x_pred[:, i]\n",
    "    df[:, num + 1] = y_pred[:, i]\n",
    "    num += 2"
   ]
  },
  {
   "cell_type": "markdown",
   "metadata": {},
   "source": [
    "## Prediction result (for the last 30% training data)"
   ]
  },
  {
   "cell_type": "code",
   "execution_count": 125,
   "metadata": {},
   "outputs": [
    {
     "data": {
      "text/html": [
       "<div>\n",
       "<style scoped>\n",
       "    .dataframe tbody tr th:only-of-type {\n",
       "        vertical-align: middle;\n",
       "    }\n",
       "\n",
       "    .dataframe tbody tr th {\n",
       "        vertical-align: top;\n",
       "    }\n",
       "\n",
       "    .dataframe thead th {\n",
       "        text-align: right;\n",
       "    }\n",
       "</style>\n",
       "<table border=\"1\" class=\"dataframe\">\n",
       "  <thead>\n",
       "    <tr style=\"text-align: right;\">\n",
       "      <th></th>\n",
       "      <th>0</th>\n",
       "      <th>1</th>\n",
       "      <th>2</th>\n",
       "      <th>3</th>\n",
       "      <th>4</th>\n",
       "      <th>5</th>\n",
       "      <th>6</th>\n",
       "      <th>7</th>\n",
       "      <th>8</th>\n",
       "      <th>9</th>\n",
       "      <th>...</th>\n",
       "      <th>50</th>\n",
       "      <th>51</th>\n",
       "      <th>52</th>\n",
       "      <th>53</th>\n",
       "      <th>54</th>\n",
       "      <th>55</th>\n",
       "      <th>56</th>\n",
       "      <th>57</th>\n",
       "      <th>58</th>\n",
       "      <th>59</th>\n",
       "    </tr>\n",
       "  </thead>\n",
       "  <tbody>\n",
       "    <tr>\n",
       "      <th>0</th>\n",
       "      <td>519.105957</td>\n",
       "      <td>4000.403564</td>\n",
       "      <td>519.105957</td>\n",
       "      <td>4000.403584</td>\n",
       "      <td>519.105957</td>\n",
       "      <td>4000.403586</td>\n",
       "      <td>519.105957</td>\n",
       "      <td>4000.403891</td>\n",
       "      <td>519.105957</td>\n",
       "      <td>4000.404453</td>\n",
       "      <td>...</td>\n",
       "      <td>519.105958</td>\n",
       "      <td>4000.507278</td>\n",
       "      <td>519.105974</td>\n",
       "      <td>4000.507283</td>\n",
       "      <td>519.105974</td>\n",
       "      <td>4000.509291</td>\n",
       "      <td>519.105974</td>\n",
       "      <td>4000.509330</td>\n",
       "      <td>519.105974</td>\n",
       "      <td>4000.510473</td>\n",
       "    </tr>\n",
       "    <tr>\n",
       "      <th>1</th>\n",
       "      <td>718.107215</td>\n",
       "      <td>3023.205566</td>\n",
       "      <td>718.139924</td>\n",
       "      <td>3023.205566</td>\n",
       "      <td>718.146638</td>\n",
       "      <td>3023.205566</td>\n",
       "      <td>718.157298</td>\n",
       "      <td>3023.205566</td>\n",
       "      <td>718.157395</td>\n",
       "      <td>3023.205566</td>\n",
       "      <td>...</td>\n",
       "      <td>718.204318</td>\n",
       "      <td>3023.350831</td>\n",
       "      <td>718.208757</td>\n",
       "      <td>3023.350831</td>\n",
       "      <td>718.208791</td>\n",
       "      <td>3023.350831</td>\n",
       "      <td>718.208851</td>\n",
       "      <td>3023.441877</td>\n",
       "      <td>718.209566</td>\n",
       "      <td>3023.441930</td>\n",
       "    </tr>\n",
       "    <tr>\n",
       "      <th>2</th>\n",
       "      <td>3688.480469</td>\n",
       "      <td>2097.048340</td>\n",
       "      <td>3688.480469</td>\n",
       "      <td>2097.048340</td>\n",
       "      <td>3688.480469</td>\n",
       "      <td>2097.048340</td>\n",
       "      <td>3688.480469</td>\n",
       "      <td>2097.048340</td>\n",
       "      <td>3688.480469</td>\n",
       "      <td>2097.048340</td>\n",
       "      <td>...</td>\n",
       "      <td>3688.480469</td>\n",
       "      <td>2097.049900</td>\n",
       "      <td>3688.480469</td>\n",
       "      <td>2097.049900</td>\n",
       "      <td>3688.480469</td>\n",
       "      <td>2097.049901</td>\n",
       "      <td>3688.480469</td>\n",
       "      <td>2097.049901</td>\n",
       "      <td>3688.480469</td>\n",
       "      <td>2097.109196</td>\n",
       "    </tr>\n",
       "    <tr>\n",
       "      <th>3</th>\n",
       "      <td>195.968857</td>\n",
       "      <td>2339.386085</td>\n",
       "      <td>195.968857</td>\n",
       "      <td>2339.386153</td>\n",
       "      <td>195.968857</td>\n",
       "      <td>2339.386316</td>\n",
       "      <td>195.968857</td>\n",
       "      <td>2339.386595</td>\n",
       "      <td>195.968857</td>\n",
       "      <td>2339.393230</td>\n",
       "      <td>...</td>\n",
       "      <td>195.969002</td>\n",
       "      <td>2339.444640</td>\n",
       "      <td>195.969004</td>\n",
       "      <td>2339.444701</td>\n",
       "      <td>195.969005</td>\n",
       "      <td>2339.444801</td>\n",
       "      <td>195.969006</td>\n",
       "      <td>2339.444831</td>\n",
       "      <td>195.969006</td>\n",
       "      <td>2339.444871</td>\n",
       "    </tr>\n",
       "    <tr>\n",
       "      <th>4</th>\n",
       "      <td>3186.894775</td>\n",
       "      <td>1889.668213</td>\n",
       "      <td>3186.894775</td>\n",
       "      <td>1889.668213</td>\n",
       "      <td>3186.894775</td>\n",
       "      <td>1889.668213</td>\n",
       "      <td>3186.894775</td>\n",
       "      <td>1889.668213</td>\n",
       "      <td>3186.894775</td>\n",
       "      <td>1889.668213</td>\n",
       "      <td>...</td>\n",
       "      <td>3186.894775</td>\n",
       "      <td>1889.672423</td>\n",
       "      <td>3186.894793</td>\n",
       "      <td>1889.672423</td>\n",
       "      <td>3186.894794</td>\n",
       "      <td>1889.672424</td>\n",
       "      <td>3186.894794</td>\n",
       "      <td>1889.672424</td>\n",
       "      <td>3186.894794</td>\n",
       "      <td>1889.703598</td>\n",
       "    </tr>\n",
       "    <tr>\n",
       "      <th>...</th>\n",
       "      <td>...</td>\n",
       "      <td>...</td>\n",
       "      <td>...</td>\n",
       "      <td>...</td>\n",
       "      <td>...</td>\n",
       "      <td>...</td>\n",
       "      <td>...</td>\n",
       "      <td>...</td>\n",
       "      <td>...</td>\n",
       "      <td>...</td>\n",
       "      <td>...</td>\n",
       "      <td>...</td>\n",
       "      <td>...</td>\n",
       "      <td>...</td>\n",
       "      <td>...</td>\n",
       "      <td>...</td>\n",
       "      <td>...</td>\n",
       "      <td>...</td>\n",
       "      <td>...</td>\n",
       "      <td>...</td>\n",
       "      <td>...</td>\n",
       "    </tr>\n",
       "    <tr>\n",
       "      <th>61778</th>\n",
       "      <td>523.651774</td>\n",
       "      <td>3858.902733</td>\n",
       "      <td>523.762627</td>\n",
       "      <td>3859.573696</td>\n",
       "      <td>523.920278</td>\n",
       "      <td>3860.241814</td>\n",
       "      <td>524.055569</td>\n",
       "      <td>3860.932777</td>\n",
       "      <td>524.203237</td>\n",
       "      <td>3861.580684</td>\n",
       "      <td>...</td>\n",
       "      <td>525.688789</td>\n",
       "      <td>3874.999037</td>\n",
       "      <td>525.750705</td>\n",
       "      <td>3875.614632</td>\n",
       "      <td>525.766796</td>\n",
       "      <td>3876.254452</td>\n",
       "      <td>525.793379</td>\n",
       "      <td>3876.824876</td>\n",
       "      <td>525.825593</td>\n",
       "      <td>3877.446784</td>\n",
       "    </tr>\n",
       "    <tr>\n",
       "      <th>61779</th>\n",
       "      <td>3392.507324</td>\n",
       "      <td>1921.914054</td>\n",
       "      <td>3392.507324</td>\n",
       "      <td>1922.058464</td>\n",
       "      <td>3392.507324</td>\n",
       "      <td>1922.158442</td>\n",
       "      <td>3392.507324</td>\n",
       "      <td>1922.338184</td>\n",
       "      <td>3392.507324</td>\n",
       "      <td>1922.452399</td>\n",
       "      <td>...</td>\n",
       "      <td>3392.507379</td>\n",
       "      <td>1924.422764</td>\n",
       "      <td>3392.507838</td>\n",
       "      <td>1924.429501</td>\n",
       "      <td>3392.507838</td>\n",
       "      <td>1924.434881</td>\n",
       "      <td>3392.507900</td>\n",
       "      <td>1924.437811</td>\n",
       "      <td>3392.507900</td>\n",
       "      <td>1924.445368</td>\n",
       "    </tr>\n",
       "    <tr>\n",
       "      <th>61780</th>\n",
       "      <td>739.490719</td>\n",
       "      <td>2264.093994</td>\n",
       "      <td>739.493630</td>\n",
       "      <td>2264.093994</td>\n",
       "      <td>739.516462</td>\n",
       "      <td>2264.093994</td>\n",
       "      <td>739.534547</td>\n",
       "      <td>2264.093994</td>\n",
       "      <td>739.535376</td>\n",
       "      <td>2264.093994</td>\n",
       "      <td>...</td>\n",
       "      <td>739.626426</td>\n",
       "      <td>2264.095698</td>\n",
       "      <td>739.627331</td>\n",
       "      <td>2264.095698</td>\n",
       "      <td>739.627900</td>\n",
       "      <td>2264.095698</td>\n",
       "      <td>739.627905</td>\n",
       "      <td>2264.095699</td>\n",
       "      <td>739.627926</td>\n",
       "      <td>2264.096025</td>\n",
       "    </tr>\n",
       "    <tr>\n",
       "      <th>61781</th>\n",
       "      <td>2826.473145</td>\n",
       "      <td>1306.424316</td>\n",
       "      <td>2826.473145</td>\n",
       "      <td>1306.424316</td>\n",
       "      <td>2826.473145</td>\n",
       "      <td>1306.424316</td>\n",
       "      <td>2826.473145</td>\n",
       "      <td>1306.424316</td>\n",
       "      <td>2826.473145</td>\n",
       "      <td>1306.424316</td>\n",
       "      <td>...</td>\n",
       "      <td>2826.473145</td>\n",
       "      <td>1306.431980</td>\n",
       "      <td>2826.473204</td>\n",
       "      <td>1306.431980</td>\n",
       "      <td>2826.473205</td>\n",
       "      <td>1306.432003</td>\n",
       "      <td>2826.473205</td>\n",
       "      <td>1306.432004</td>\n",
       "      <td>2826.473205</td>\n",
       "      <td>1306.440201</td>\n",
       "    </tr>\n",
       "    <tr>\n",
       "      <th>61782</th>\n",
       "      <td>737.312933</td>\n",
       "      <td>1693.198242</td>\n",
       "      <td>737.357047</td>\n",
       "      <td>1693.198242</td>\n",
       "      <td>737.472703</td>\n",
       "      <td>1693.198242</td>\n",
       "      <td>737.518295</td>\n",
       "      <td>1693.198242</td>\n",
       "      <td>737.582329</td>\n",
       "      <td>1693.198242</td>\n",
       "      <td>...</td>\n",
       "      <td>738.915043</td>\n",
       "      <td>1693.214340</td>\n",
       "      <td>738.946324</td>\n",
       "      <td>1693.214341</td>\n",
       "      <td>738.989267</td>\n",
       "      <td>1693.215702</td>\n",
       "      <td>739.020825</td>\n",
       "      <td>1693.216188</td>\n",
       "      <td>739.042791</td>\n",
       "      <td>1693.216488</td>\n",
       "    </tr>\n",
       "  </tbody>\n",
       "</table>\n",
       "<p>61783 rows × 60 columns</p>\n",
       "</div>"
      ],
      "text/plain": [
       "                0            1            2            3            4   \\\n",
       "0       519.105957  4000.403564   519.105957  4000.403584   519.105957   \n",
       "1       718.107215  3023.205566   718.139924  3023.205566   718.146638   \n",
       "2      3688.480469  2097.048340  3688.480469  2097.048340  3688.480469   \n",
       "3       195.968857  2339.386085   195.968857  2339.386153   195.968857   \n",
       "4      3186.894775  1889.668213  3186.894775  1889.668213  3186.894775   \n",
       "...            ...          ...          ...          ...          ...   \n",
       "61778   523.651774  3858.902733   523.762627  3859.573696   523.920278   \n",
       "61779  3392.507324  1921.914054  3392.507324  1922.058464  3392.507324   \n",
       "61780   739.490719  2264.093994   739.493630  2264.093994   739.516462   \n",
       "61781  2826.473145  1306.424316  2826.473145  1306.424316  2826.473145   \n",
       "61782   737.312933  1693.198242   737.357047  1693.198242   737.472703   \n",
       "\n",
       "                5            6            7            8            9   ...  \\\n",
       "0      4000.403586   519.105957  4000.403891   519.105957  4000.404453  ...   \n",
       "1      3023.205566   718.157298  3023.205566   718.157395  3023.205566  ...   \n",
       "2      2097.048340  3688.480469  2097.048340  3688.480469  2097.048340  ...   \n",
       "3      2339.386316   195.968857  2339.386595   195.968857  2339.393230  ...   \n",
       "4      1889.668213  3186.894775  1889.668213  3186.894775  1889.668213  ...   \n",
       "...            ...          ...          ...          ...          ...  ...   \n",
       "61778  3860.241814   524.055569  3860.932777   524.203237  3861.580684  ...   \n",
       "61779  1922.158442  3392.507324  1922.338184  3392.507324  1922.452399  ...   \n",
       "61780  2264.093994   739.534547  2264.093994   739.535376  2264.093994  ...   \n",
       "61781  1306.424316  2826.473145  1306.424316  2826.473145  1306.424316  ...   \n",
       "61782  1693.198242   737.518295  1693.198242   737.582329  1693.198242  ...   \n",
       "\n",
       "                50           51           52           53           54  \\\n",
       "0       519.105958  4000.507278   519.105974  4000.507283   519.105974   \n",
       "1       718.204318  3023.350831   718.208757  3023.350831   718.208791   \n",
       "2      3688.480469  2097.049900  3688.480469  2097.049900  3688.480469   \n",
       "3       195.969002  2339.444640   195.969004  2339.444701   195.969005   \n",
       "4      3186.894775  1889.672423  3186.894793  1889.672423  3186.894794   \n",
       "...            ...          ...          ...          ...          ...   \n",
       "61778   525.688789  3874.999037   525.750705  3875.614632   525.766796   \n",
       "61779  3392.507379  1924.422764  3392.507838  1924.429501  3392.507838   \n",
       "61780   739.626426  2264.095698   739.627331  2264.095698   739.627900   \n",
       "61781  2826.473145  1306.431980  2826.473204  1306.431980  2826.473205   \n",
       "61782   738.915043  1693.214340   738.946324  1693.214341   738.989267   \n",
       "\n",
       "                55           56           57           58           59  \n",
       "0      4000.509291   519.105974  4000.509330   519.105974  4000.510473  \n",
       "1      3023.350831   718.208851  3023.441877   718.209566  3023.441930  \n",
       "2      2097.049901  3688.480469  2097.049901  3688.480469  2097.109196  \n",
       "3      2339.444801   195.969006  2339.444831   195.969006  2339.444871  \n",
       "4      1889.672424  3186.894794  1889.672424  3186.894794  1889.703598  \n",
       "...            ...          ...          ...          ...          ...  \n",
       "61778  3876.254452   525.793379  3876.824876   525.825593  3877.446784  \n",
       "61779  1924.434881  3392.507900  1924.437811  3392.507900  1924.445368  \n",
       "61780  2264.095698   739.627905  2264.095699   739.627926  2264.096025  \n",
       "61781  1306.432003  2826.473205  1306.432004  2826.473205  1306.440201  \n",
       "61782  1693.215702   739.020825  1693.216188   739.042791  1693.216488  \n",
       "\n",
       "[61783 rows x 60 columns]"
      ]
     },
     "execution_count": 125,
     "metadata": {},
     "output_type": "execute_result"
    }
   ],
   "source": [
    "df = pd.DataFrame(df)\n",
    "df"
   ]
  },
  {
   "cell_type": "code",
   "execution_count": 27,
   "metadata": {},
   "outputs": [],
   "source": [
    "#df.insert(0, 'ID', pd.read_csv('sample_submission.csv')['ID'])"
   ]
  },
  {
   "cell_type": "code",
   "execution_count": 28,
   "metadata": {},
   "outputs": [],
   "source": [
    "#df.columns = pd.read_csv('sample_submission.csv').columns"
   ]
  },
  {
   "cell_type": "code",
   "execution_count": 29,
   "metadata": {},
   "outputs": [],
   "source": [
    "#df.to_csv('submission.csv', index=False)"
   ]
  },
  {
   "cell_type": "code",
   "execution_count": null,
   "metadata": {},
   "outputs": [],
   "source": []
  }
 ],
 "metadata": {
  "kernelspec": {
   "display_name": "Python 3",
   "language": "python",
   "name": "python3"
  },
  "language_info": {
   "codemirror_mode": {
    "name": "ipython",
    "version": 3
   },
   "file_extension": ".py",
   "mimetype": "text/x-python",
   "name": "python",
   "nbconvert_exporter": "python",
   "pygments_lexer": "ipython3",
   "version": "3.7.6"
  }
 },
 "nbformat": 4,
 "nbformat_minor": 4
}
