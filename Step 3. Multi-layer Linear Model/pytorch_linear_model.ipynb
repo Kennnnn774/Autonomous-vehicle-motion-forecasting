{
 "cells": [
  {
   "cell_type": "code",
   "execution_count": 1,
   "metadata": {},
   "outputs": [],
   "source": [
    "import os, os.path \n",
    "import numpy \n",
    "from torch.utils.data import Dataset, DataLoader\n",
    "import pickle\n",
    "from glob import glob\n",
    "import pandas as pd\n",
    "import numpy as np\n",
    "import matplotlib.pyplot as plt\n",
    "from tqdm.notebook import tqdm\n",
    "import numpy as np\n",
    "import matplotlib\n",
    "import torch\n",
    "import torch.nn as nn\n",
    "import torch.nn.functional as F\n",
    "from torch.utils.data import Dataset, DataLoader, random_split\n",
    "from torch.utils.data import TensorDataset, DataLoader\n",
    "\n",
    "\"\"\"Change to the data folder\"\"\"\n",
    "train_path = \"./new_train/new_train\"\n",
    "test_path = './new_val_in/new_val_in'\n",
    "matplotlib.rcParams['savefig.dpi'] = 300"
   ]
  },
  {
   "cell_type": "code",
   "execution_count": 2,
   "metadata": {},
   "outputs": [],
   "source": [
    "class ArgoverseDataset(Dataset):\n",
    "    \"\"\"Dataset class for Argoverse\"\"\"\n",
    "    def __init__(self, data_path: str, transform=None):\n",
    "        super(ArgoverseDataset, self).__init__()\n",
    "        self.data_path = data_path\n",
    "        self.transform = transform\n",
    "        self.pkl_list = glob(os.path.join(self.data_path, '*'))\n",
    "        self.pkl_list.sort()\n",
    "    def __len__(self): #len(val_dataset)\n",
    "        return len(self.pkl_list)\n",
    "    def __getitem__(self, idx): #val_dataset[0]\n",
    "        pkl_path = self.pkl_list[idx]\n",
    "        with open(pkl_path, 'rb') as f:\n",
    "            data = pickle.load(f)\n",
    "        if self.transform:\n",
    "            data = self.transform(data)\n",
    "        return data"
   ]
  },
  {
   "cell_type": "code",
   "execution_count": 3,
   "metadata": {},
   "outputs": [],
   "source": [
    "train_dataset = ArgoverseDataset(data_path=train_path) \n",
    "test_dataset  = ArgoverseDataset(data_path=test_path) "
   ]
  },
  {
   "cell_type": "markdown",
   "metadata": {},
   "source": [
    "# Data Preprocessing"
   ]
  },
  {
   "cell_type": "code",
   "execution_count": 4,
   "metadata": {},
   "outputs": [
    {
     "data": {
      "application/vnd.jupyter.widget-view+json": {
       "model_id": "d809f86b122840b6bf938a724978e3c3",
       "version_major": 2,
       "version_minor": 0
      },
      "text/plain": [
       "HBox(children=(FloatProgress(value=0.0, max=205942.0), HTML(value='')))"
      ]
     },
     "metadata": {},
     "output_type": "display_data"
    },
    {
     "name": "stdout",
     "output_type": "stream",
     "text": [
      "\n"
     ]
    }
   ],
   "source": [
    "#diff points\n",
    "train = []\n",
    "for i in tqdm(range((len(train_dataset)))):\n",
    "    val = train_dataset[i]\n",
    "    c_filter = val['car_mask'].reshape(-1) == 1\n",
    "    p_in = val['p_in'][c_filter]\n",
    "    p_out = val['p_out'][c_filter]\n",
    "    for c in range(len(p_in)):\n",
    "        in_out = np.diff(np.vstack((p_in[c], p_out[c])), axis=0).flatten()\n",
    "        train.append(in_out)\n",
    "train = np.array(train)"
   ]
  },
  {
   "cell_type": "code",
   "execution_count": null,
   "metadata": {},
   "outputs": [],
   "source": [
    "#train = np.genfromtxt('preprocessed_train.csv',delimiter =',')"
   ]
  },
  {
   "cell_type": "markdown",
   "metadata": {},
   "source": [
    "## Get test set data, and initial position"
   ]
  },
  {
   "cell_type": "code",
   "execution_count": 5,
   "metadata": {},
   "outputs": [
    {
     "data": {
      "application/vnd.jupyter.widget-view+json": {
       "model_id": "1ce4ce04b0f94752a0655930d9a7eb51",
       "version_major": 2,
       "version_minor": 0
      },
      "text/plain": [
       "HBox(children=(FloatProgress(value=0.0, max=3200.0), HTML(value='')))"
      ]
     },
     "metadata": {},
     "output_type": "display_data"
    },
    {
     "name": "stdout",
     "output_type": "stream",
     "text": [
      "\n"
     ]
    }
   ],
   "source": [
    "#create only targeted agent list\n",
    "init_p = []\n",
    "in_test = []\n",
    "for i in tqdm(range((len(test_dataset)))):\n",
    "    val = test_dataset[i]\n",
    "    c_filter = val['agent_id'] == val['track_id'][:, 0, 0]\n",
    "    p_in = val['p_in'][c_filter]\n",
    "    v_in = (val['v_in'][c_filter][:, :, 0]**2 + val['v_in'][c_filter][:, :, 1] ** 2)**0.5\n",
    "    for c in range(len(p_in)):\n",
    "        in_test.append(\n",
    "            np.diff(p_in[c], axis=0).flatten()\n",
    "        )\n",
    "        init_p.append(\n",
    "            p_in[c][-1]\n",
    "        )\n",
    "in_test = np.array(in_test)\n",
    "init_p = np.array(init_p)"
   ]
  },
  {
   "cell_type": "code",
   "execution_count": 6,
   "metadata": {},
   "outputs": [],
   "source": [
    "#np.savetxt(\"preprocessed_train.csv\", train, delimiter=\",\")"
   ]
  },
  {
   "cell_type": "code",
   "execution_count": 9,
   "metadata": {},
   "outputs": [
    {
     "data": {
      "text/plain": [
       "device(type='cuda')"
      ]
     },
     "execution_count": 9,
     "metadata": {},
     "output_type": "execute_result"
    }
   ],
   "source": [
    "#Step up device: cuda or cpu\n",
    "device = torch.device(\"cuda\" if torch.cuda.is_available() else \"cpu\")\n",
    "device"
   ]
  },
  {
   "cell_type": "markdown",
   "metadata": {},
   "source": [
    "# Creating model workflow (this session is only for testing, skip to the actual training below)"
   ]
  },
  {
   "cell_type": "code",
   "execution_count": 117,
   "metadata": {},
   "outputs": [],
   "source": [
    "in_train = torch.tensor(train[:, :36]).type(torch.FloatTensor).to(device)\n",
    "out_train = torch.tensor(train[:, 36:]).type(torch.FloatTensor).to(device)\n",
    "\n",
    "in_test = torch.tensor(in_test).type(torch.FloatTensor).to(device)"
   ]
  },
  {
   "cell_type": "code",
   "execution_count": 122,
   "metadata": {},
   "outputs": [],
   "source": [
    "trainloader = DataLoader(TensorDataset(in_train[:, :36], out_train[:, :1]),batch_size= 512, drop_last=False, shuffle=True)"
   ]
  },
  {
   "cell_type": "code",
   "execution_count": 123,
   "metadata": {},
   "outputs": [],
   "source": [
    "class Net(nn.Module):\n",
    "    \n",
    "    def __init__(self):\n",
    "        \n",
    "        super().__init__()\n",
    "\n",
    "        self.lin1 = nn.Linear(36, 18)\n",
    "        self.lin2 = nn.Linear(18, 6)\n",
    "        self.lin3 = nn.Linear(6, 1)\n",
    "        self.activation = nn.Sigmoid()\n",
    "        \n",
    "    def forward(self, x):\n",
    "        x = F.relu(self.lin1(x))\n",
    "        x = F.relu(self.lin2(x))\n",
    "        return self.activation(self.lin3(x))\n",
    "    \n",
    "\n",
    "net = Net().to(device)"
   ]
  },
  {
   "cell_type": "code",
   "execution_count": 126,
   "metadata": {
    "scrolled": true
   },
   "outputs": [
    {
     "name": "stdout",
     "output_type": "stream",
     "text": [
      "[Epoch 1,  3540] loss: 0.12302844\n",
      "[Epoch 2,  3540] loss: 0.12289178\n",
      "[Epoch 3,  3540] loss: 0.12291648\n",
      "[Epoch 4,  3540] loss: 0.12286522\n",
      "[Epoch 5,  3540] loss: 0.12287612\n",
      "[Epoch 6,  3540] loss: 0.12283727\n",
      "[Epoch 7,  3540] loss: 0.12280002\n",
      "[Epoch 8,  3540] loss: 0.12282911\n",
      "[Epoch 9,  3540] loss: 0.12287485\n",
      "[Epoch 10,  3540] loss: 0.12282326\n",
      "[Epoch 11,  3540] loss: 0.12277096\n",
      "[Epoch 12,  3540] loss: 0.12275954\n",
      "[Epoch 13,  3540] loss: 0.12277921\n",
      "[Epoch 14,  3540] loss: 0.12274584\n",
      "[Epoch 15,  3540] loss: 0.12277067\n",
      "[Epoch 16,  3540] loss: 0.12278083\n",
      "[Epoch 17,  3540] loss: 0.12277364\n",
      "[Epoch 18,  3540] loss: 0.12275211\n",
      "[Epoch 19,  3540] loss: 0.12280717\n",
      "[Epoch 20,  3540] loss: 0.12276342\n"
     ]
    }
   ],
   "source": [
    "criterion = nn.MSELoss()\n",
    "optimizer = torch.optim.Adam(net.parameters(), lr=0.05)\n",
    "#optimizer = torch.optim.SGD(net.parameters(), lr=0.01)\n",
    "\n",
    "for epoch in range(20): \n",
    "    \n",
    "    net.train()\n",
    "    running_loss = 0.0\n",
    "    for i, data in enumerate(trainloader, 0):\n",
    "        inputs, labels = data \n",
    "        # zero the parameter gradients\n",
    "        optimizer.zero_grad()\n",
    "        outputs = net(inputs).to(device)\n",
    "        loss = criterion(outputs, labels)\n",
    "        loss.backward()\n",
    "        optimizer.step()\n",
    "        # print statistics\n",
    "        running_loss += loss.item()\n",
    "        if i == 3539:    # print every 2000 mini-batches\n",
    "            print('[Epoch %d, %5d] loss: %.8f' %\n",
    "                  (epoch + 1, i + 1, running_loss / 3540))\n",
    "            running_loss = 0.0"
   ]
  },
  {
   "cell_type": "code",
   "execution_count": 84,
   "metadata": {
    "scrolled": true
   },
   "outputs": [
    {
     "data": {
      "text/plain": [
       "array([[9.0517998e-01],\n",
       "       [2.0592444e-02],\n",
       "       [2.4094157e-01],\n",
       "       ...,\n",
       "       [6.0908645e-10],\n",
       "       [1.4381190e-03],\n",
       "       [6.5948501e-02]], dtype=float32)"
      ]
     },
     "execution_count": 84,
     "metadata": {},
     "output_type": "execute_result"
    }
   ],
   "source": [
    "net(in_test).to('cpu').detach().numpy()"
   ]
  },
  {
   "cell_type": "markdown",
   "metadata": {},
   "source": [
    "# Training"
   ]
  },
  {
   "cell_type": "markdown",
   "metadata": {},
   "source": [
    "## Auto-regression model set up"
   ]
  },
  {
   "cell_type": "code",
   "execution_count": 129,
   "metadata": {},
   "outputs": [],
   "source": [
    "class Net(nn.Module):\n",
    "    \n",
    "    def __init__(self, column_size):\n",
    "        \n",
    "        super().__init__()\n",
    "        \n",
    "        self.size_lin1 = column_size // 2\n",
    "        self.size_lin2 = self.size_lin1 // 3\n",
    "\n",
    "        self.lin1 = nn.Linear(column_size, self.size_lin1)\n",
    "        self.lin2 = nn.Linear(self.size_lin1, self.size_lin2)\n",
    "        self.lin3 = nn.Linear(self.size_lin2, 1)\n",
    "        \n",
    "        self.activation = nn.Sigmoid()\n",
    "        \n",
    "    def forward(self, x):\n",
    "        x = F.relu(self.lin1(x))\n",
    "        x = F.relu(self.lin2(x))\n",
    "        return self.activation(self.lin3(x))\n",
    "    "
   ]
  },
  {
   "cell_type": "markdown",
   "metadata": {},
   "source": [
    "## Training with auto regression"
   ]
  },
  {
   "cell_type": "code",
   "execution_count": 130,
   "metadata": {},
   "outputs": [
    {
     "data": {
      "application/vnd.jupyter.widget-view+json": {
       "model_id": "6f84c6f9ef594e7fa02f6764f18bf731",
       "version_major": 2,
       "version_minor": 0
      },
      "text/plain": [
       "HBox(children=(FloatProgress(value=0.0, max=60.0), HTML(value='')))"
      ]
     },
     "metadata": {},
     "output_type": "display_data"
    },
    {
     "name": "stdout",
     "output_type": "stream",
     "text": [
      "\n"
     ]
    }
   ],
   "source": [
    "net_list = []\n",
    "\n",
    "for i in range(36, 36+60):\n",
    "    \n",
    "    net_list.append(Net(i).to(device))\n",
    "    \n",
    "for num in tqdm(range(60)):\n",
    "\n",
    "    in_train = torch.tensor(train[:, :36 + num]).type(torch.FloatTensor).to(device)\n",
    "    out_train = torch.tensor(train[:, 36: 36+ 1 + num]).type(torch.FloatTensor).to(device)\n",
    "\n",
    "    trainloader = DataLoader(TensorDataset(in_train[:, :36 + num], out_train[:, num: num+1]),\n",
    "                             batch_size= 512, drop_last=False, shuffle = True)\n",
    "    \n",
    "    criterion = nn.MSELoss()\n",
    "    optimizer = torch.optim.Adam(net_list[num].parameters(), lr=0.05)\n",
    "\n",
    "    for epoch in range(5): \n",
    "    \n",
    "        net_list[num].train()\n",
    "        running_loss = 0.0\n",
    "        for i, data in enumerate(trainloader, 0):\n",
    "            inputs, labels = data \n",
    "            # zero the parameter gradients\n",
    "            optimizer.zero_grad()\n",
    "            outputs = net_list[num](inputs).to(device)\n",
    "            loss = criterion(outputs, labels)\n",
    "            loss.backward()\n",
    "            optimizer.step()\n",
    "            \n",
    "#             # print statistics\n",
    "#             running_loss += loss.item()\n",
    "#             if i == 3539:    # print every 2000 mini-batches\n",
    "#                 print('[Epoch %d, %5d] loss: %.8f' %\n",
    "#                       (epoch + 1, i + 1, running_loss / 3540))\n",
    "#                 running_loss = 0.0"
   ]
  },
  {
   "cell_type": "markdown",
   "metadata": {},
   "source": [
    "## Prediction"
   ]
  },
  {
   "cell_type": "markdown",
   "metadata": {},
   "source": [
    "first of all, in_test should always be a numpy array"
   ]
  },
  {
   "cell_type": "code",
   "execution_count": 131,
   "metadata": {},
   "outputs": [
    {
     "data": {
      "application/vnd.jupyter.widget-view+json": {
       "model_id": "cbe3026326564136b7f6599d12981ec0",
       "version_major": 2,
       "version_minor": 0
      },
      "text/plain": [
       "HBox(children=(FloatProgress(value=0.0, max=3200.0), HTML(value='')))"
      ]
     },
     "metadata": {},
     "output_type": "display_data"
    },
    {
     "name": "stdout",
     "output_type": "stream",
     "text": [
      "\n"
     ]
    }
   ],
   "source": [
    "#re run it for numpy array\n",
    "init_p = []\n",
    "in_test = []\n",
    "for i in tqdm(range((len(test_dataset)))):\n",
    "    val = test_dataset[i]\n",
    "    c_filter = val['agent_id'] == val['track_id'][:, 0, 0]\n",
    "    p_in = val['p_in'][c_filter]\n",
    "    v_in = (val['v_in'][c_filter][:, :, 0]**2 + val['v_in'][c_filter][:, :, 1] ** 2)**0.5\n",
    "    for c in range(len(p_in)):\n",
    "        in_test.append(\n",
    "            np.diff(p_in[c], axis=0).flatten()\n",
    "        )\n",
    "        init_p.append(\n",
    "            p_in[c][-1]\n",
    "        )\n",
    "in_test = np.array(in_test)\n",
    "init_p = np.array(init_p)"
   ]
  },
  {
   "cell_type": "markdown",
   "metadata": {},
   "source": [
    "Creating prediction"
   ]
  },
  {
   "cell_type": "code",
   "execution_count": 132,
   "metadata": {},
   "outputs": [
    {
     "data": {
      "application/vnd.jupyter.widget-view+json": {
       "model_id": "3d2460eb4e78411db7bdea3daa2b9385",
       "version_major": 2,
       "version_minor": 0
      },
      "text/plain": [
       "HBox(children=(FloatProgress(value=0.0, max=60.0), HTML(value='')))"
      ]
     },
     "metadata": {},
     "output_type": "display_data"
    },
    {
     "name": "stdout",
     "output_type": "stream",
     "text": [
      "\n"
     ]
    }
   ],
   "source": [
    "for i in tqdm(range(60)):\n",
    "    in_test_tensor = torch.tensor(in_test).type(torch.FloatTensor).to(device)\n",
    "    pred = net_list[i](in_test_tensor).to('cpu').detach().numpy().flatten()\n",
    "    in_test = np.insert(in_test, 36 + i, pred, axis=1)"
   ]
  },
  {
   "cell_type": "code",
   "execution_count": 133,
   "metadata": {},
   "outputs": [],
   "source": [
    "pred = in_test[:, 36:]"
   ]
  },
  {
   "cell_type": "code",
   "execution_count": 134,
   "metadata": {},
   "outputs": [],
   "source": [
    "x_pred = pred[:, list(range(0, 60, 2))]\n",
    "y_pred = pred[:, list(range(1, 61, 2))]"
   ]
  },
  {
   "cell_type": "code",
   "execution_count": 135,
   "metadata": {},
   "outputs": [],
   "source": [
    "x_pred[:, 0] = x_pred[:, 0] + init_p[:, 0]"
   ]
  },
  {
   "cell_type": "code",
   "execution_count": 136,
   "metadata": {},
   "outputs": [],
   "source": [
    "y_pred[:, 0] = y_pred[:, 0] + init_p[:, 1]"
   ]
  },
  {
   "cell_type": "code",
   "execution_count": 137,
   "metadata": {},
   "outputs": [],
   "source": [
    "x_pred = x_pred.cumsum(1)\n",
    "y_pred = y_pred.cumsum(1)"
   ]
  },
  {
   "cell_type": "code",
   "execution_count": 138,
   "metadata": {},
   "outputs": [],
   "source": [
    "df = np.zeros((3200, 60))\n",
    "num = 0\n",
    "for i in range(30):\n",
    "    df[:, num] = x_pred[:, i]\n",
    "    df[:, num + 1] = y_pred[:, i]\n",
    "    num += 2"
   ]
  },
  {
   "cell_type": "code",
   "execution_count": 139,
   "metadata": {},
   "outputs": [
    {
     "data": {
      "text/html": [
       "<div>\n",
       "<style scoped>\n",
       "    .dataframe tbody tr th:only-of-type {\n",
       "        vertical-align: middle;\n",
       "    }\n",
       "\n",
       "    .dataframe tbody tr th {\n",
       "        vertical-align: top;\n",
       "    }\n",
       "\n",
       "    .dataframe thead th {\n",
       "        text-align: right;\n",
       "    }\n",
       "</style>\n",
       "<table border=\"1\" class=\"dataframe\">\n",
       "  <thead>\n",
       "    <tr style=\"text-align: right;\">\n",
       "      <th></th>\n",
       "      <th>0</th>\n",
       "      <th>1</th>\n",
       "      <th>2</th>\n",
       "      <th>3</th>\n",
       "      <th>4</th>\n",
       "      <th>5</th>\n",
       "      <th>6</th>\n",
       "      <th>7</th>\n",
       "      <th>8</th>\n",
       "      <th>9</th>\n",
       "      <th>...</th>\n",
       "      <th>50</th>\n",
       "      <th>51</th>\n",
       "      <th>52</th>\n",
       "      <th>53</th>\n",
       "      <th>54</th>\n",
       "      <th>55</th>\n",
       "      <th>56</th>\n",
       "      <th>57</th>\n",
       "      <th>58</th>\n",
       "      <th>59</th>\n",
       "    </tr>\n",
       "  </thead>\n",
       "  <tbody>\n",
       "    <tr>\n",
       "      <th>0</th>\n",
       "      <td>1714.678477</td>\n",
       "      <td>337.145987</td>\n",
       "      <td>1715.630701</td>\n",
       "      <td>338.046654</td>\n",
       "      <td>1716.602294</td>\n",
       "      <td>338.957383</td>\n",
       "      <td>1717.369724</td>\n",
       "      <td>339.846274</td>\n",
       "      <td>1718.335680</td>\n",
       "      <td>340.782406</td>\n",
       "      <td>...</td>\n",
       "      <td>1738.269962</td>\n",
       "      <td>358.306407</td>\n",
       "      <td>1739.177495</td>\n",
       "      <td>359.077312</td>\n",
       "      <td>1740.162139</td>\n",
       "      <td>360.070297</td>\n",
       "      <td>1741.066825</td>\n",
       "      <td>360.905427</td>\n",
       "      <td>1741.969162</td>\n",
       "      <td>361.464034</td>\n",
       "    </tr>\n",
       "    <tr>\n",
       "      <th>1</th>\n",
       "      <td>725.561381</td>\n",
       "      <td>1229.961182</td>\n",
       "      <td>725.561382</td>\n",
       "      <td>1229.961182</td>\n",
       "      <td>725.561382</td>\n",
       "      <td>1229.961182</td>\n",
       "      <td>725.561382</td>\n",
       "      <td>1229.961182</td>\n",
       "      <td>725.561382</td>\n",
       "      <td>1229.961182</td>\n",
       "      <td>...</td>\n",
       "      <td>725.561401</td>\n",
       "      <td>1229.961182</td>\n",
       "      <td>725.561401</td>\n",
       "      <td>1229.961182</td>\n",
       "      <td>725.561401</td>\n",
       "      <td>1229.961182</td>\n",
       "      <td>725.561401</td>\n",
       "      <td>1229.961182</td>\n",
       "      <td>725.561401</td>\n",
       "      <td>1229.961182</td>\n",
       "    </tr>\n",
       "    <tr>\n",
       "      <th>2</th>\n",
       "      <td>573.974954</td>\n",
       "      <td>1244.689453</td>\n",
       "      <td>574.203963</td>\n",
       "      <td>1244.689453</td>\n",
       "      <td>574.408069</td>\n",
       "      <td>1244.689453</td>\n",
       "      <td>574.643716</td>\n",
       "      <td>1244.689453</td>\n",
       "      <td>574.762411</td>\n",
       "      <td>1244.689453</td>\n",
       "      <td>...</td>\n",
       "      <td>579.363872</td>\n",
       "      <td>1244.689495</td>\n",
       "      <td>579.621827</td>\n",
       "      <td>1244.689495</td>\n",
       "      <td>579.916472</td>\n",
       "      <td>1244.689495</td>\n",
       "      <td>580.059042</td>\n",
       "      <td>1244.689495</td>\n",
       "      <td>580.399306</td>\n",
       "      <td>1244.689495</td>\n",
       "    </tr>\n",
       "    <tr>\n",
       "      <th>3</th>\n",
       "      <td>1691.341246</td>\n",
       "      <td>315.607222</td>\n",
       "      <td>1691.925688</td>\n",
       "      <td>316.140311</td>\n",
       "      <td>1692.679993</td>\n",
       "      <td>316.815216</td>\n",
       "      <td>1693.384787</td>\n",
       "      <td>317.527928</td>\n",
       "      <td>1694.038324</td>\n",
       "      <td>318.025214</td>\n",
       "      <td>...</td>\n",
       "      <td>1709.881831</td>\n",
       "      <td>331.348087</td>\n",
       "      <td>1710.664023</td>\n",
       "      <td>331.941350</td>\n",
       "      <td>1711.602001</td>\n",
       "      <td>332.798049</td>\n",
       "      <td>1712.411499</td>\n",
       "      <td>333.633179</td>\n",
       "      <td>1713.224421</td>\n",
       "      <td>334.189415</td>\n",
       "    </tr>\n",
       "    <tr>\n",
       "      <th>4</th>\n",
       "      <td>2124.079834</td>\n",
       "      <td>678.186646</td>\n",
       "      <td>2124.079834</td>\n",
       "      <td>678.186646</td>\n",
       "      <td>2124.079834</td>\n",
       "      <td>678.186646</td>\n",
       "      <td>2124.079834</td>\n",
       "      <td>678.186646</td>\n",
       "      <td>2124.079834</td>\n",
       "      <td>678.186646</td>\n",
       "      <td>...</td>\n",
       "      <td>2124.079834</td>\n",
       "      <td>678.186646</td>\n",
       "      <td>2124.079834</td>\n",
       "      <td>678.186646</td>\n",
       "      <td>2124.079834</td>\n",
       "      <td>678.186646</td>\n",
       "      <td>2124.079834</td>\n",
       "      <td>678.186646</td>\n",
       "      <td>2124.079834</td>\n",
       "      <td>678.186646</td>\n",
       "    </tr>\n",
       "    <tr>\n",
       "      <th>...</th>\n",
       "      <td>...</td>\n",
       "      <td>...</td>\n",
       "      <td>...</td>\n",
       "      <td>...</td>\n",
       "      <td>...</td>\n",
       "      <td>...</td>\n",
       "      <td>...</td>\n",
       "      <td>...</td>\n",
       "      <td>...</td>\n",
       "      <td>...</td>\n",
       "      <td>...</td>\n",
       "      <td>...</td>\n",
       "      <td>...</td>\n",
       "      <td>...</td>\n",
       "      <td>...</td>\n",
       "      <td>...</td>\n",
       "      <td>...</td>\n",
       "      <td>...</td>\n",
       "      <td>...</td>\n",
       "      <td>...</td>\n",
       "      <td>...</td>\n",
       "    </tr>\n",
       "    <tr>\n",
       "      <th>3195</th>\n",
       "      <td>256.381991</td>\n",
       "      <td>805.615295</td>\n",
       "      <td>256.615635</td>\n",
       "      <td>805.615295</td>\n",
       "      <td>256.858189</td>\n",
       "      <td>805.615295</td>\n",
       "      <td>257.104720</td>\n",
       "      <td>805.615295</td>\n",
       "      <td>257.341587</td>\n",
       "      <td>805.615295</td>\n",
       "      <td>...</td>\n",
       "      <td>262.591894</td>\n",
       "      <td>805.615295</td>\n",
       "      <td>262.864040</td>\n",
       "      <td>805.615295</td>\n",
       "      <td>263.158685</td>\n",
       "      <td>805.615295</td>\n",
       "      <td>263.468357</td>\n",
       "      <td>805.615295</td>\n",
       "      <td>263.788794</td>\n",
       "      <td>805.615295</td>\n",
       "    </tr>\n",
       "    <tr>\n",
       "      <th>3196</th>\n",
       "      <td>587.843311</td>\n",
       "      <td>1154.503662</td>\n",
       "      <td>587.849642</td>\n",
       "      <td>1154.503662</td>\n",
       "      <td>587.849642</td>\n",
       "      <td>1154.503662</td>\n",
       "      <td>587.849642</td>\n",
       "      <td>1154.503662</td>\n",
       "      <td>587.849975</td>\n",
       "      <td>1154.503662</td>\n",
       "      <td>...</td>\n",
       "      <td>587.906726</td>\n",
       "      <td>1154.503662</td>\n",
       "      <td>587.906726</td>\n",
       "      <td>1154.503662</td>\n",
       "      <td>587.906726</td>\n",
       "      <td>1154.503662</td>\n",
       "      <td>587.906726</td>\n",
       "      <td>1154.503662</td>\n",
       "      <td>587.906726</td>\n",
       "      <td>1154.503662</td>\n",
       "    </tr>\n",
       "    <tr>\n",
       "      <th>3197</th>\n",
       "      <td>1755.736572</td>\n",
       "      <td>444.011328</td>\n",
       "      <td>1755.736572</td>\n",
       "      <td>444.360414</td>\n",
       "      <td>1755.736572</td>\n",
       "      <td>444.546339</td>\n",
       "      <td>1755.736572</td>\n",
       "      <td>444.740628</td>\n",
       "      <td>1755.736572</td>\n",
       "      <td>444.936353</td>\n",
       "      <td>...</td>\n",
       "      <td>1755.736572</td>\n",
       "      <td>448.625654</td>\n",
       "      <td>1755.736572</td>\n",
       "      <td>448.867775</td>\n",
       "      <td>1755.736572</td>\n",
       "      <td>448.868188</td>\n",
       "      <td>1755.736572</td>\n",
       "      <td>448.868188</td>\n",
       "      <td>1755.736572</td>\n",
       "      <td>449.067392</td>\n",
       "    </tr>\n",
       "    <tr>\n",
       "      <th>3198</th>\n",
       "      <td>574.704444</td>\n",
       "      <td>1289.077393</td>\n",
       "      <td>574.704446</td>\n",
       "      <td>1289.077393</td>\n",
       "      <td>574.704446</td>\n",
       "      <td>1289.077393</td>\n",
       "      <td>574.704446</td>\n",
       "      <td>1289.077393</td>\n",
       "      <td>574.704446</td>\n",
       "      <td>1289.077393</td>\n",
       "      <td>...</td>\n",
       "      <td>574.704446</td>\n",
       "      <td>1289.077393</td>\n",
       "      <td>574.704446</td>\n",
       "      <td>1289.077393</td>\n",
       "      <td>574.704446</td>\n",
       "      <td>1289.077393</td>\n",
       "      <td>574.704446</td>\n",
       "      <td>1289.077393</td>\n",
       "      <td>574.704446</td>\n",
       "      <td>1289.077393</td>\n",
       "    </tr>\n",
       "    <tr>\n",
       "      <th>3199</th>\n",
       "      <td>584.684614</td>\n",
       "      <td>1165.738037</td>\n",
       "      <td>584.690872</td>\n",
       "      <td>1165.738037</td>\n",
       "      <td>584.700283</td>\n",
       "      <td>1165.738037</td>\n",
       "      <td>584.700283</td>\n",
       "      <td>1165.738037</td>\n",
       "      <td>584.700605</td>\n",
       "      <td>1165.738037</td>\n",
       "      <td>...</td>\n",
       "      <td>584.708209</td>\n",
       "      <td>1165.738037</td>\n",
       "      <td>584.708209</td>\n",
       "      <td>1165.738037</td>\n",
       "      <td>584.708209</td>\n",
       "      <td>1165.738037</td>\n",
       "      <td>584.708209</td>\n",
       "      <td>1165.738037</td>\n",
       "      <td>584.708209</td>\n",
       "      <td>1165.738037</td>\n",
       "    </tr>\n",
       "  </tbody>\n",
       "</table>\n",
       "<p>3200 rows × 60 columns</p>\n",
       "</div>"
      ],
      "text/plain": [
       "               0            1            2            3            4   \\\n",
       "0     1714.678477   337.145987  1715.630701   338.046654  1716.602294   \n",
       "1      725.561381  1229.961182   725.561382  1229.961182   725.561382   \n",
       "2      573.974954  1244.689453   574.203963  1244.689453   574.408069   \n",
       "3     1691.341246   315.607222  1691.925688   316.140311  1692.679993   \n",
       "4     2124.079834   678.186646  2124.079834   678.186646  2124.079834   \n",
       "...           ...          ...          ...          ...          ...   \n",
       "3195   256.381991   805.615295   256.615635   805.615295   256.858189   \n",
       "3196   587.843311  1154.503662   587.849642  1154.503662   587.849642   \n",
       "3197  1755.736572   444.011328  1755.736572   444.360414  1755.736572   \n",
       "3198   574.704444  1289.077393   574.704446  1289.077393   574.704446   \n",
       "3199   584.684614  1165.738037   584.690872  1165.738037   584.700283   \n",
       "\n",
       "               5            6            7            8            9   ...  \\\n",
       "0      338.957383  1717.369724   339.846274  1718.335680   340.782406  ...   \n",
       "1     1229.961182   725.561382  1229.961182   725.561382  1229.961182  ...   \n",
       "2     1244.689453   574.643716  1244.689453   574.762411  1244.689453  ...   \n",
       "3      316.815216  1693.384787   317.527928  1694.038324   318.025214  ...   \n",
       "4      678.186646  2124.079834   678.186646  2124.079834   678.186646  ...   \n",
       "...           ...          ...          ...          ...          ...  ...   \n",
       "3195   805.615295   257.104720   805.615295   257.341587   805.615295  ...   \n",
       "3196  1154.503662   587.849642  1154.503662   587.849975  1154.503662  ...   \n",
       "3197   444.546339  1755.736572   444.740628  1755.736572   444.936353  ...   \n",
       "3198  1289.077393   574.704446  1289.077393   574.704446  1289.077393  ...   \n",
       "3199  1165.738037   584.700283  1165.738037   584.700605  1165.738037  ...   \n",
       "\n",
       "               50           51           52           53           54  \\\n",
       "0     1738.269962   358.306407  1739.177495   359.077312  1740.162139   \n",
       "1      725.561401  1229.961182   725.561401  1229.961182   725.561401   \n",
       "2      579.363872  1244.689495   579.621827  1244.689495   579.916472   \n",
       "3     1709.881831   331.348087  1710.664023   331.941350  1711.602001   \n",
       "4     2124.079834   678.186646  2124.079834   678.186646  2124.079834   \n",
       "...           ...          ...          ...          ...          ...   \n",
       "3195   262.591894   805.615295   262.864040   805.615295   263.158685   \n",
       "3196   587.906726  1154.503662   587.906726  1154.503662   587.906726   \n",
       "3197  1755.736572   448.625654  1755.736572   448.867775  1755.736572   \n",
       "3198   574.704446  1289.077393   574.704446  1289.077393   574.704446   \n",
       "3199   584.708209  1165.738037   584.708209  1165.738037   584.708209   \n",
       "\n",
       "               55           56           57           58           59  \n",
       "0      360.070297  1741.066825   360.905427  1741.969162   361.464034  \n",
       "1     1229.961182   725.561401  1229.961182   725.561401  1229.961182  \n",
       "2     1244.689495   580.059042  1244.689495   580.399306  1244.689495  \n",
       "3      332.798049  1712.411499   333.633179  1713.224421   334.189415  \n",
       "4      678.186646  2124.079834   678.186646  2124.079834   678.186646  \n",
       "...           ...          ...          ...          ...          ...  \n",
       "3195   805.615295   263.468357   805.615295   263.788794   805.615295  \n",
       "3196  1154.503662   587.906726  1154.503662   587.906726  1154.503662  \n",
       "3197   448.868188  1755.736572   448.868188  1755.736572   449.067392  \n",
       "3198  1289.077393   574.704446  1289.077393   574.704446  1289.077393  \n",
       "3199  1165.738037   584.708209  1165.738037   584.708209  1165.738037  \n",
       "\n",
       "[3200 rows x 60 columns]"
      ]
     },
     "execution_count": 139,
     "metadata": {},
     "output_type": "execute_result"
    }
   ],
   "source": [
    "df = pd.DataFrame(df)\n",
    "df"
   ]
  },
  {
   "cell_type": "code",
   "execution_count": 140,
   "metadata": {},
   "outputs": [],
   "source": [
    "df.insert(0, 'ID', pd.read_csv('sample_submission.csv')['ID'])"
   ]
  },
  {
   "cell_type": "code",
   "execution_count": 141,
   "metadata": {},
   "outputs": [],
   "source": [
    "df.columns = pd.read_csv('sample_submission.csv').columns"
   ]
  },
  {
   "cell_type": "code",
   "execution_count": 142,
   "metadata": {},
   "outputs": [],
   "source": [
    "df.to_csv('submission.csv', index=False)"
   ]
  },
  {
   "cell_type": "code",
   "execution_count": null,
   "metadata": {},
   "outputs": [],
   "source": []
  }
 ],
 "metadata": {
  "kernelspec": {
   "display_name": "Python 3",
   "language": "python",
   "name": "python3"
  },
  "language_info": {
   "codemirror_mode": {
    "name": "ipython",
    "version": 3
   },
   "file_extension": ".py",
   "mimetype": "text/x-python",
   "name": "python",
   "nbconvert_exporter": "python",
   "pygments_lexer": "ipython3",
   "version": "3.7.6"
  }
 },
 "nbformat": 4,
 "nbformat_minor": 4
}
