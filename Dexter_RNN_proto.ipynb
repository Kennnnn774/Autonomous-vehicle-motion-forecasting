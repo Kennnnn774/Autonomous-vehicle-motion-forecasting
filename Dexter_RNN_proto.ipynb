{
 "cells": [
  {
   "cell_type": "code",
   "execution_count": 19,
   "metadata": {
    "ExecuteTime": {
     "end_time": "2021-05-13T05:33:28.287622Z",
     "start_time": "2021-05-13T05:33:28.239993Z"
    }
   },
   "outputs": [],
   "source": [
    "import torch\n",
    "from torch.utils.data import Dataset, DataLoader, random_split\n",
    "import os, os.path \n",
    "import numpy \n",
    "import pickle\n",
    "from glob import glob\n",
    "import pandas as pd\n",
    "import numpy as np\n",
    "import matplotlib.pyplot as plt\n",
    "from tqdm import tqdm\n",
    "\n",
    "\"\"\"Change to the data folder\"\"\"\n",
    "train_path = \"../data/new_train\"\n",
    "val_path = '../data/new_val_in/new_val_in'"
   ]
  },
  {
   "cell_type": "code",
   "execution_count": 2,
   "metadata": {
    "ExecuteTime": {
     "end_time": "2021-05-13T05:33:28.315612Z",
     "start_time": "2021-05-13T05:33:28.294607Z"
    }
   },
   "outputs": [],
   "source": [
    "class ArgoverseDataset(Dataset):\n",
    "    \n",
    "    \"\"\"Dataset class for Argoverse\"\"\"\n",
    "    def __init__(self, data_path: str, transform=None):\n",
    "        super(ArgoverseDataset, self).__init__()\n",
    "        self.data_path = data_path\n",
    "        self.transform = transform\n",
    "        self.pkl_list = glob(os.path.join(self.data_path, '*'))\n",
    "        self.pkl_list.sort()\n",
    "        \n",
    "    def __len__(self): #len(val_dataset)\n",
    "        return len(self.pkl_list)\n",
    "    \n",
    "    def __getitem__(self, idx): #val_dataset[0]\n",
    "        pkl_path = self.pkl_list[idx]\n",
    "        with open(pkl_path, 'rb') as f:\n",
    "            data = pickle.load(f)\n",
    "        if self.transform:\n",
    "            data = self.transform(data)\n",
    "        return data"
   ]
  },
  {
   "cell_type": "code",
   "execution_count": 13,
   "metadata": {
    "ExecuteTime": {
     "end_time": "2021-05-13T05:33:29.075700Z",
     "start_time": "2021-05-13T05:33:28.319689Z"
    }
   },
   "outputs": [
    {
     "name": "stdout",
     "output_type": "stream",
     "text": [
      "205942 3200\n"
     ]
    }
   ],
   "source": [
    "init_dataset = ArgoverseDataset(data_path=train_path) \n",
    "val_dataset  = ArgoverseDataset(data_path=val_path) \n",
    "print(len(init_dataset), len(val_dataset))"
   ]
  },
  {
   "cell_type": "code",
   "execution_count": 24,
   "metadata": {},
   "outputs": [
    {
     "name": "stdout",
     "output_type": "stream",
     "text": [
      "[144160, 61782]\n",
      "144160 61782 3200\n"
     ]
    }
   ],
   "source": [
    "lengths = [int(len(init_dataset)*0.7) + 1, int(len(init_dataset)*0.3)]\n",
    "print(lengths)\n",
    "train_dataset, test_dataset = random_split(init_dataset, lengths)\n",
    "print(len(train_dataset), len(test_dataset), len(val_dataset))"
   ]
  },
  {
   "cell_type": "code",
   "execution_count": 9,
   "metadata": {
    "ExecuteTime": {
     "end_time": "2021-05-13T05:33:29.106777Z",
     "start_time": "2021-05-13T05:33:29.077780Z"
    }
   },
   "outputs": [],
   "source": [
    "batch_sz = 2\n",
    "def my_collate(batch): #[scene['p_in'][scene['car_mask'].reshape(-1) == 1]]\n",
    "    \"\"\" collate lists of samples into batches, create [ batch_sz x agent_sz x seq_len x feature] \"\"\"\n",
    "    inp = [numpy.dstack([scene['p_in']]) for scene in batch]\n",
    "    out = [numpy.dstack([scene['p_out']]) for scene in batch]\n",
    "    inp = torch.FloatTensor(inp) #LongTensor\n",
    "    out = torch.FloatTensor(out) #LongTensor\n",
    "    return [inp, out]\n",
    "train_loader = DataLoader(train_dataset, batch_size=batch_sz, shuffle = False, collate_fn=my_collate, num_workers=0)"
   ]
  },
  {
   "cell_type": "code",
   "execution_count": 5,
   "metadata": {
    "ExecuteTime": {
     "end_time": "2021-05-13T05:33:29.121917Z",
     "start_time": "2021-05-13T05:33:29.107777Z"
    }
   },
   "outputs": [],
   "source": [
    "import torch.optim as optim\n",
    "import torch.nn as nn\n",
    "import torch.nn.functional as F"
   ]
  },
  {
   "cell_type": "code",
   "execution_count": 6,
   "metadata": {
    "ExecuteTime": {
     "end_time": "2021-05-13T07:01:23.962757Z",
     "start_time": "2021-05-13T07:01:23.925749Z"
    }
   },
   "outputs": [
    {
     "name": "stdout",
     "output_type": "stream",
     "text": [
      "cuda\n",
      "LSTM(\n",
      "  (lstm): LSTM(2280, 200, batch_first=True)\n",
      "  (linear): Linear(in_features=200, out_features=3600, bias=True)\n",
      ")\n"
     ]
    }
   ],
   "source": [
    "class LSTM(nn.Module):\n",
    "    def __init__(self, input_size= 2280, hidden_layer_size=200, output_size= 3600):\n",
    "        super().__init__()\n",
    "        self.hidden_layer_size = hidden_layer_size\n",
    "\n",
    "        self.lstm = nn.LSTM(input_size, hidden_layer_size, batch_first = True)\n",
    "\n",
    "        self.linear = nn.Linear(hidden_layer_size, output_size)\n",
    "\n",
    "        self.hidden_cell = (torch.zeros(1,4,self.hidden_layer_size),\n",
    "                            torch.zeros(1,4,self.hidden_layer_size))\n",
    "\n",
    "    def forward(self, input_seq):\n",
    "        lstm_out, self.hidden_cell = self.lstm(\n",
    "                                        input_seq.view(len(input_seq), 1, -1), \n",
    "                                        self.hidden_cell)\n",
    "        predictions = self.linear(lstm_out.view(len(input_seq), -1))\n",
    "        return predictions\n",
    "    \n",
    "device = torch.device(\"cuda\" if torch.cuda.is_available() else \"cpu\")\n",
    "print(device)\n",
    "#looss function and optimizer use from rose\n",
    "model = LSTM()\n",
    "loss_function = nn.MSELoss()\n",
    "model.to(device)\n",
    "optimizer = torch.optim.Adam(model.parameters(), lr=0.001)\n",
    "print(model)"
   ]
  },
  {
   "cell_type": "code",
   "execution_count": null,
   "metadata": {
    "ExecuteTime": {
     "end_time": "2021-05-13T07:04:35.704706Z",
     "start_time": "2021-05-13T07:01:30.199929Z"
    }
   },
   "outputs": [
    {
     "name": "stderr",
     "output_type": "stream",
     "text": [
      "  0%|          | 14/102971 [00:00<12:44, 134.58it/s]"
     ]
    },
    {
     "name": "stdout",
     "output_type": "stream",
     "text": [
      "epoch 0\n"
     ]
    },
    {
     "name": "stderr",
     "output_type": "stream",
     "text": [
      "100%|██████████| 102971/102971 [12:08<00:00, 141.42it/s]\n",
      "  0%|          | 13/102971 [00:00<13:43, 124.97it/s]"
     ]
    },
    {
     "name": "stdout",
     "output_type": "stream",
     "text": [
      "123659.96875\n",
      "epoch 1\n"
     ]
    },
    {
     "name": "stderr",
     "output_type": "stream",
     "text": [
      " 38%|███▊      | 39332/102971 [05:12<07:34, 139.94it/s]"
     ]
    }
   ],
   "source": [
    "model.train()\n",
    "epochs = 5\n",
    "\n",
    "for i in range(epochs):\n",
    "    print('epoch', i)\n",
    "    iterator = tqdm(train_loader, total=int(len(train_loader)))\n",
    "    for i_batch, sample_batch in enumerate(iterator):\n",
    "        seq, labels = sample_batch\n",
    "        #new_seq = seq.permute(0, 2, 1, 3).to(device)\n",
    "        seq = seq.to(device)\n",
    "        labels = labels.to(device)\n",
    "        optimizer.zero_grad()\n",
    "        model.hidden_cell = (torch.zeros(1, 2, model.hidden_layer_size).to(device),\n",
    "                        torch.zeros(1, 2, model.hidden_layer_size).to(device))\n",
    "\n",
    "        y_pred = model(seq)\n",
    "        \n",
    "        single_loss = loss_function(y_pred.reshape(-1), labels.reshape(-1))\n",
    "        single_loss.backward()\n",
    "        optimizer.step()\n",
    "    print(single_loss.item())\n",
    "    if i%25 == 1:\n",
    "        print(f'epoch: {i:3} loss: {single_loss.item():10.8f}')\n",
    "\n",
    "print(f'epoch: {i:3} loss: {single_loss.item():10.10f}')"
   ]
  },
  {
   "cell_type": "code",
   "execution_count": null,
   "metadata": {},
   "outputs": [],
   "source": []
  }
 ],
 "metadata": {
  "kernelspec": {
   "display_name": "Python 3",
   "language": "python",
   "name": "python3"
  },
  "language_info": {
   "codemirror_mode": {
    "name": "ipython",
    "version": 3
   },
   "file_extension": ".py",
   "mimetype": "text/x-python",
   "name": "python",
   "nbconvert_exporter": "python",
   "pygments_lexer": "ipython3",
   "version": "3.8.5"
  },
  "toc": {
   "base_numbering": 1,
   "nav_menu": {},
   "number_sections": true,
   "sideBar": true,
   "skip_h1_title": false,
   "title_cell": "Table of Contents",
   "title_sidebar": "Contents",
   "toc_cell": false,
   "toc_position": {},
   "toc_section_display": true,
   "toc_window_display": false
  },
  "varInspector": {
   "cols": {
    "lenName": 16,
    "lenType": 16,
    "lenVar": 40
   },
   "kernels_config": {
    "python": {
     "delete_cmd_postfix": "",
     "delete_cmd_prefix": "del ",
     "library": "var_list.py",
     "varRefreshCmd": "print(var_dic_list())"
    },
    "r": {
     "delete_cmd_postfix": ") ",
     "delete_cmd_prefix": "rm(",
     "library": "var_list.r",
     "varRefreshCmd": "cat(var_dic_list()) "
    }
   },
   "types_to_exclude": [
    "module",
    "function",
    "builtin_function_or_method",
    "instance",
    "_Feature"
   ],
   "window_display": false
  }
 },
 "nbformat": 4,
 "nbformat_minor": 4
}
