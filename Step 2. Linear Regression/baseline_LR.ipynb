{
 "cells": [
  {
   "cell_type": "code",
   "execution_count": 1,
   "metadata": {},
   "outputs": [],
   "source": [
    "import os, os.path \n",
    "import numpy \n",
    "from torch.utils.data import Dataset, DataLoader\n",
    "import pickle\n",
    "from glob import glob\n",
    "import pandas as pd\n",
    "import numpy as np\n",
    "import matplotlib.pyplot as plt\n",
    "from tqdm.notebook import tqdm\n",
    "import numpy as np\n",
    "from sklearn.linear_model import LinearRegression\n",
    "from sklearn.metrics import r2_score\n",
    "from sklearn.ensemble import RandomForestRegressor\n",
    "import matplotlib\n",
    "\n",
    "\"\"\"Change to the data folder\"\"\"\n",
    "train_path = \"./new_train/new_train\"\n",
    "test_path = './new_val_in/new_val_in'\n",
    "matplotlib.rcParams['savefig.dpi'] = 300"
   ]
  },
  {
   "cell_type": "code",
   "execution_count": 6,
   "metadata": {},
   "outputs": [
    {
     "data": {
      "text/plain": [
       "3990"
      ]
     },
     "execution_count": 6,
     "metadata": {},
     "output_type": "execute_result"
    }
   ],
   "source": [
    "sum(list(range(36 + 1, 36 + 60 + 1)))"
   ]
  },
  {
   "cell_type": "code",
   "execution_count": 2,
   "metadata": {},
   "outputs": [],
   "source": [
    "class ArgoverseDataset(Dataset):\n",
    "    \n",
    "    \"\"\"Dataset class for Argoverse\"\"\"\n",
    "    def __init__(self, data_path: str, transform=None):\n",
    "        super(ArgoverseDataset, self).__init__()\n",
    "        self.data_path = data_path\n",
    "        self.transform = transform\n",
    "        self.pkl_list = glob(os.path.join(self.data_path, '*'))\n",
    "        self.pkl_list.sort()\n",
    "        \n",
    "    def __len__(self): #len(val_dataset)\n",
    "        return len(self.pkl_list)\n",
    "    \n",
    "    def __getitem__(self, idx): #val_dataset[0]\n",
    "        pkl_path = self.pkl_list[idx]\n",
    "        with open(pkl_path, 'rb') as f:\n",
    "            data = pickle.load(f)\n",
    "        if self.transform:\n",
    "            data = self.transform(data)\n",
    "        return data"
   ]
  },
  {
   "cell_type": "code",
   "execution_count": 3,
   "metadata": {},
   "outputs": [],
   "source": [
    "train_dataset = ArgoverseDataset(data_path=train_path) \n",
    "test_dataset  = ArgoverseDataset(data_path=test_path) "
   ]
  },
  {
   "cell_type": "code",
   "execution_count": 4,
   "metadata": {},
   "outputs": [],
   "source": [
    "# #original points\n",
    "\n",
    "# in_train, out_train = [], []\n",
    "# for i in tqdm(range((len(train_dataset)))):\n",
    "#     val = train_dataset[i]\n",
    "#     c_filter = val['car_mask'].reshape(-1) == 1\n",
    "#     p_in = val['p_in'][c_filter]\n",
    "#     v_in = (val['v_in'][c_filter][:, :, 0]**2 + val['v_in'][c_filter][:, :, 1] ** 2)**0.5\n",
    "#     v_out = (val['v_out'][c_filter][:, :, 0]**2 + val['v_out'][c_filter][:, :, 1] ** 2)**0.5\n",
    "#     p_out = val['p_out'][c_filter]\n",
    "#     for c in range(len(p_in)):\n",
    "#         inp = np.hstack((v_in[c].reshape(19, 1), p_in[c])).flatten()\n",
    "#         in_train.append(inp)\n",
    "#         out = np.hstack((v_out[c].reshape(30, 1), p_out[c])).flatten()\n",
    "#         out_train.append(out)\n",
    "# in_train = np.array(in_train)\n",
    "# out_train = np.array(out_train)"
   ]
  },
  {
   "cell_type": "code",
   "execution_count": 5,
   "metadata": {},
   "outputs": [
    {
     "data": {
      "application/vnd.jupyter.widget-view+json": {
       "model_id": "fcb4f9b64f3e4c2890a021f433b35944",
       "version_major": 2,
       "version_minor": 0
      },
      "text/plain": [
       "HBox(children=(FloatProgress(value=0.0, max=205942.0), HTML(value='')))"
      ]
     },
     "metadata": {},
     "output_type": "display_data"
    },
    {
     "name": "stdout",
     "output_type": "stream",
     "text": [
      "\n"
     ]
    }
   ],
   "source": [
    "#diff points\n",
    "\n",
    "train = []\n",
    "for i in tqdm(range((len(train_dataset)))):\n",
    "    val = train_dataset[i]\n",
    "    c_filter = val['car_mask'].reshape(-1) == 1\n",
    "    p_in = val['p_in'][c_filter]\n",
    "    p_out = val['p_out'][c_filter]\n",
    "    for c in range(len(p_in)):\n",
    "        in_out = np.diff(np.vstack((p_in[c], p_out[c])), axis=0).flatten()\n",
    "        train.append(in_out)\n",
    "train = np.array(train)"
   ]
  },
  {
   "cell_type": "code",
   "execution_count": 8,
   "metadata": {},
   "outputs": [],
   "source": [
    "in_train, out_train = train[:, :36], train[:, 36:]"
   ]
  },
  {
   "cell_type": "code",
   "execution_count": 9,
   "metadata": {},
   "outputs": [
    {
     "data": {
      "text/plain": [
       "((1812171, 36), (1812171, 60))"
      ]
     },
     "execution_count": 9,
     "metadata": {},
     "output_type": "execute_result"
    }
   ],
   "source": [
    "in_train.shape, out_train.shape"
   ]
  },
  {
   "cell_type": "markdown",
   "metadata": {},
   "source": [
    "# Train"
   ]
  },
  {
   "cell_type": "code",
   "execution_count": 10,
   "metadata": {},
   "outputs": [],
   "source": [
    "from sklearn.neural_network import MLPRegressor"
   ]
  },
  {
   "cell_type": "code",
   "execution_count": 11,
   "metadata": {},
   "outputs": [
    {
     "data": {
      "application/vnd.jupyter.widget-view+json": {
       "model_id": "da233cbc7ea04167bdbd7af903f2d325",
       "version_major": 2,
       "version_minor": 0
      },
      "text/plain": [
       "HBox(children=(FloatProgress(value=0.0, max=3200.0), HTML(value='')))"
      ]
     },
     "metadata": {},
     "output_type": "display_data"
    },
    {
     "name": "stdout",
     "output_type": "stream",
     "text": [
      "\n"
     ]
    }
   ],
   "source": [
    "#create only targeted agent list\n",
    "init_p = []\n",
    "in_test = []\n",
    "for i in tqdm(range((len(test_dataset)))):\n",
    "    val = test_dataset[i]\n",
    "    c_filter = val['agent_id'] == val['track_id'][:, 0, 0]\n",
    "    p_in = val['p_in'][c_filter]\n",
    "    v_in = (val['v_in'][c_filter][:, :, 0]**2 + val['v_in'][c_filter][:, :, 1] ** 2)**0.5\n",
    "    for c in range(len(p_in)):\n",
    "        in_test.append(\n",
    "            np.diff(p_in[c], axis=0).flatten()\n",
    "        )\n",
    "        init_p.append(\n",
    "            p_in[c][-1]\n",
    "        )\n",
    "in_test = np.array(in_test)\n",
    "init_p = np.array(init_p)"
   ]
  },
  {
   "cell_type": "code",
   "execution_count": 12,
   "metadata": {},
   "outputs": [
    {
     "data": {
      "text/plain": [
       "((3200, 36), (3200, 2))"
      ]
     },
     "execution_count": 12,
     "metadata": {},
     "output_type": "execute_result"
    }
   ],
   "source": [
    "in_test.shape, init_p.shape"
   ]
  },
  {
   "cell_type": "code",
   "execution_count": 16,
   "metadata": {},
   "outputs": [
    {
     "data": {
      "application/vnd.jupyter.widget-view+json": {
       "model_id": "d4a4be6b73e64ad499a6f9c9dd26908b",
       "version_major": 2,
       "version_minor": 0
      },
      "text/plain": [
       "HBox(children=(FloatProgress(value=0.0, max=60.0), HTML(value='')))"
      ]
     },
     "metadata": {},
     "output_type": "display_data"
    },
    {
     "name": "stderr",
     "output_type": "stream",
     "text": [
      "/opt/conda/lib/python3.7/site-packages/sklearn/neural_network/_multilayer_perceptron.py:571: ConvergenceWarning: Stochastic Optimizer: Maximum iterations (20) reached and the optimization hasn't converged yet.\n",
      "  % self.max_iter, ConvergenceWarning)\n",
      "/opt/conda/lib/python3.7/site-packages/sklearn/neural_network/_multilayer_perceptron.py:571: ConvergenceWarning: Stochastic Optimizer: Maximum iterations (20) reached and the optimization hasn't converged yet.\n",
      "  % self.max_iter, ConvergenceWarning)\n",
      "/opt/conda/lib/python3.7/site-packages/sklearn/neural_network/_multilayer_perceptron.py:573: UserWarning: Training interrupted by user.\n",
      "  warnings.warn(\"Training interrupted by user.\")\n"
     ]
    },
    {
     "name": "stdout",
     "output_type": "stream",
     "text": [
      "\n"
     ]
    },
    {
     "name": "stderr",
     "output_type": "stream",
     "text": [
      "/opt/conda/lib/python3.7/site-packages/sklearn/neural_network/_multilayer_perceptron.py:573: UserWarning: Training interrupted by user.\n",
      "  warnings.warn(\"Training interrupted by user.\")\n"
     ]
    },
    {
     "ename": "KeyboardInterrupt",
     "evalue": "",
     "output_type": "error",
     "traceback": [
      "\u001b[0;31m---------------------------------------------------------------------------\u001b[0m",
      "\u001b[0;31mKeyboardInterrupt\u001b[0m                         Traceback (most recent call last)",
      "\u001b[0;32m<ipython-input-16-3b229129e4a5>\u001b[0m in \u001b[0;36m<module>\u001b[0;34m\u001b[0m\n\u001b[1;32m     10\u001b[0m \u001b[0;31m#train using labels from the ground truth output, and use the GT output to train new time point\u001b[0m\u001b[0;34m\u001b[0m\u001b[0;34m\u001b[0m\u001b[0;34m\u001b[0m\u001b[0m\n\u001b[1;32m     11\u001b[0m \u001b[0;32mfor\u001b[0m \u001b[0mi\u001b[0m \u001b[0;32min\u001b[0m \u001b[0mtqdm\u001b[0m\u001b[0;34m(\u001b[0m\u001b[0mrange\u001b[0m\u001b[0;34m(\u001b[0m\u001b[0mnum_output\u001b[0m\u001b[0;34m)\u001b[0m\u001b[0;34m)\u001b[0m\u001b[0;34m:\u001b[0m\u001b[0;34m\u001b[0m\u001b[0;34m\u001b[0m\u001b[0m\n\u001b[0;32m---> 12\u001b[0;31m     \u001b[0mregs\u001b[0m\u001b[0;34m[\u001b[0m\u001b[0mi\u001b[0m\u001b[0;34m]\u001b[0m \u001b[0;34m=\u001b[0m \u001b[0mMLPRegressor\u001b[0m\u001b[0;34m(\u001b[0m\u001b[0mrandom_state\u001b[0m\u001b[0;34m=\u001b[0m\u001b[0;36m1\u001b[0m\u001b[0;34m,\u001b[0m \u001b[0mhidden_layer_sizes\u001b[0m\u001b[0;34m=\u001b[0m\u001b[0;36m10\u001b[0m\u001b[0;34m,\u001b[0m \u001b[0mmax_iter\u001b[0m\u001b[0;34m=\u001b[0m\u001b[0;36m20\u001b[0m\u001b[0;34m,\u001b[0m \u001b[0mbatch_size\u001b[0m\u001b[0;34m=\u001b[0m\u001b[0;36m500\u001b[0m\u001b[0;34m)\u001b[0m\u001b[0;34m.\u001b[0m\u001b[0mfit\u001b[0m\u001b[0;34m(\u001b[0m\u001b[0min_train\u001b[0m\u001b[0;34m,\u001b[0m \u001b[0mout_train\u001b[0m\u001b[0;34m[\u001b[0m\u001b[0;34m:\u001b[0m\u001b[0;34m,\u001b[0m \u001b[0mi\u001b[0m\u001b[0;34m]\u001b[0m\u001b[0;34m)\u001b[0m\u001b[0;34m\u001b[0m\u001b[0;34m\u001b[0m\u001b[0m\n\u001b[0m\u001b[1;32m     13\u001b[0m \u001b[0;34m\u001b[0m\u001b[0m\n\u001b[1;32m     14\u001b[0m     \u001b[0;31m#append GT back to the train feature\u001b[0m\u001b[0;34m\u001b[0m\u001b[0;34m\u001b[0m\u001b[0;34m\u001b[0m\u001b[0m\n",
      "\u001b[0;32m/opt/conda/lib/python3.7/site-packages/sklearn/neural_network/_multilayer_perceptron.py\u001b[0m in \u001b[0;36mfit\u001b[0;34m(self, X, y)\u001b[0m\n\u001b[1;32m    625\u001b[0m         \u001b[0mself\u001b[0m \u001b[0;34m:\u001b[0m \u001b[0mreturns\u001b[0m \u001b[0ma\u001b[0m \u001b[0mtrained\u001b[0m \u001b[0mMLP\u001b[0m \u001b[0mmodel\u001b[0m\u001b[0;34m.\u001b[0m\u001b[0;34m\u001b[0m\u001b[0;34m\u001b[0m\u001b[0m\n\u001b[1;32m    626\u001b[0m         \"\"\"\n\u001b[0;32m--> 627\u001b[0;31m         \u001b[0;32mreturn\u001b[0m \u001b[0mself\u001b[0m\u001b[0;34m.\u001b[0m\u001b[0m_fit\u001b[0m\u001b[0;34m(\u001b[0m\u001b[0mX\u001b[0m\u001b[0;34m,\u001b[0m \u001b[0my\u001b[0m\u001b[0;34m,\u001b[0m \u001b[0mincremental\u001b[0m\u001b[0;34m=\u001b[0m\u001b[0;32mFalse\u001b[0m\u001b[0;34m)\u001b[0m\u001b[0;34m\u001b[0m\u001b[0;34m\u001b[0m\u001b[0m\n\u001b[0m\u001b[1;32m    628\u001b[0m \u001b[0;34m\u001b[0m\u001b[0m\n\u001b[1;32m    629\u001b[0m     \u001b[0;34m@\u001b[0m\u001b[0mproperty\u001b[0m\u001b[0;34m\u001b[0m\u001b[0;34m\u001b[0m\u001b[0m\n",
      "\u001b[0;31mKeyboardInterrupt\u001b[0m: "
     ]
    }
   ],
   "source": [
    "#auto regressive and teacher-forcing\n",
    "\n",
    "#prepare a list of 60 linear regression models, half for 30 output x, half for 30 output y\n",
    "\n",
    "num_output = 60\n",
    "input_end_idx = 36\n",
    "\n",
    "regs = [None] * num_output\n",
    "\n",
    "#train using labels from the ground truth output, and use the GT output to train new time point\n",
    "for i in tqdm(range(num_output)):\n",
    "    #regs[i] = MLPRegressor(random_state=1, hidden_layer_sizes=10, max_iter=20, batch_size=500).fit(in_train, out_train[:, i])\n",
    "    regs[i] = LinearRegression().fit(in_train, out_train[:, i])\n",
    "    #append GT back to the train feature\n",
    "    in_train = np.insert(in_train, input_end_idx + i, out_train[:, i], axis=1)"
   ]
  },
  {
   "cell_type": "code",
   "execution_count": 33,
   "metadata": {},
   "outputs": [
    {
     "data": {
      "application/vnd.jupyter.widget-view+json": {
       "model_id": "eb600dc36fb241f9a431eb9eb434db34",
       "version_major": 2,
       "version_minor": 0
      },
      "text/plain": [
       "HBox(children=(FloatProgress(value=0.0, max=60.0), HTML(value='')))"
      ]
     },
     "metadata": {},
     "output_type": "display_data"
    },
    {
     "name": "stdout",
     "output_type": "stream",
     "text": [
      "\n"
     ]
    }
   ],
   "source": [
    "for i in tqdm(range(num_output)):\n",
    "    pred = regs[i].predict(in_test)\n",
    "    in_test = np.insert(in_test, input_end_idx + i, pred, axis=1)"
   ]
  },
  {
   "cell_type": "code",
   "execution_count": 41,
   "metadata": {},
   "outputs": [],
   "source": [
    "pred = in_test[:, input_end_idx:]"
   ]
  },
  {
   "cell_type": "code",
   "execution_count": 42,
   "metadata": {},
   "outputs": [
    {
     "data": {
      "text/plain": [
       "array([[ 0.89229534,  0.85426171,  0.93187133, ...,  0.90401191,\n",
       "         0.88392139,  0.89112875],\n",
       "       [ 0.00174933, -0.32648074, -0.04431245, ..., -0.17252194,\n",
       "        -0.07330664, -0.16939675],\n",
       "       [ 0.20456159, -0.03993083,  0.21618458, ..., -0.078703  ,\n",
       "         0.20837796, -0.07665519],\n",
       "       ...,\n",
       "       [-0.14647564,  0.32343838, -0.16150715, ...,  0.26496804,\n",
       "        -0.14666128,  0.25724155],\n",
       "       [-0.08724574, -0.23695208, -0.09013251, ..., -0.22718565,\n",
       "        -0.10586434, -0.22248741],\n",
       "       [ 0.07038408, -1.05755761,  0.05887728, ..., -0.88509574,\n",
       "         0.02256564, -0.86912755]])"
      ]
     },
     "execution_count": 42,
     "metadata": {},
     "output_type": "execute_result"
    }
   ],
   "source": [
    "pred"
   ]
  },
  {
   "cell_type": "code",
   "execution_count": 43,
   "metadata": {},
   "outputs": [],
   "source": [
    "x_pred = pred[:, list(range(0, 60, 2))]\n",
    "y_pred = pred[:, list(range(1, 61, 2))]"
   ]
  },
  {
   "cell_type": "code",
   "execution_count": 47,
   "metadata": {},
   "outputs": [],
   "source": [
    "x_pred[:, 0] = x_pred[:, 0] + init_p[:, 0]"
   ]
  },
  {
   "cell_type": "code",
   "execution_count": 48,
   "metadata": {},
   "outputs": [],
   "source": [
    "y_pred[:, 0] = y_pred[:, 0] + init_p[:, 1]"
   ]
  },
  {
   "cell_type": "code",
   "execution_count": 53,
   "metadata": {},
   "outputs": [],
   "source": [
    "x_pred = x_pred.cumsum(1)\n",
    "y_pred = y_pred.cumsum(1)"
   ]
  },
  {
   "cell_type": "code",
   "execution_count": 62,
   "metadata": {},
   "outputs": [],
   "source": [
    "df = np.zeros((3200, 60))\n",
    "num = 0\n",
    "for i in range(30):\n",
    "    df[:, num] = x_pred[:, i]\n",
    "    df[:, num + 1] = y_pred[:, i]\n",
    "    num += 2"
   ]
  },
  {
   "cell_type": "code",
   "execution_count": 64,
   "metadata": {},
   "outputs": [],
   "source": [
    "df = pd.DataFrame(df)"
   ]
  },
  {
   "cell_type": "code",
   "execution_count": 69,
   "metadata": {},
   "outputs": [
    {
     "data": {
      "text/plain": [
       "array([[ 0.85986328,  0.92837524,  0.92272949, ...,  0.90401191,\n",
       "         0.88392139,  0.89112875],\n",
       "       [ 0.08538818, -0.36047363, -0.09686279, ..., -0.17252194,\n",
       "        -0.07330664, -0.16939675],\n",
       "       [-0.15307617,  0.10327148,  0.22485352, ..., -0.078703  ,\n",
       "         0.20837796, -0.07665519],\n",
       "       ...,\n",
       "       [-0.16052246,  0.33877563, -0.14453125, ...,  0.26496804,\n",
       "        -0.14666128,  0.25724155],\n",
       "       [-0.0199585 , -0.09765625,  0.00311279, ..., -0.22718565,\n",
       "        -0.10586434, -0.22248741],\n",
       "       [ 0.36474609, -1.75976562,  0.03778076, ..., -0.88509574,\n",
       "         0.02256564, -0.86912755]])"
      ]
     },
     "execution_count": 69,
     "metadata": {},
     "output_type": "execute_result"
    }
   ],
   "source": [
    "in_test"
   ]
  },
  {
   "cell_type": "code",
   "execution_count": 65,
   "metadata": {},
   "outputs": [
    {
     "data": {
      "text/html": [
       "<div>\n",
       "<style scoped>\n",
       "    .dataframe tbody tr th:only-of-type {\n",
       "        vertical-align: middle;\n",
       "    }\n",
       "\n",
       "    .dataframe tbody tr th {\n",
       "        vertical-align: top;\n",
       "    }\n",
       "\n",
       "    .dataframe thead th {\n",
       "        text-align: right;\n",
       "    }\n",
       "</style>\n",
       "<table border=\"1\" class=\"dataframe\">\n",
       "  <thead>\n",
       "    <tr style=\"text-align: right;\">\n",
       "      <th></th>\n",
       "      <th>0</th>\n",
       "      <th>1</th>\n",
       "      <th>2</th>\n",
       "      <th>3</th>\n",
       "      <th>4</th>\n",
       "      <th>5</th>\n",
       "      <th>6</th>\n",
       "      <th>7</th>\n",
       "      <th>8</th>\n",
       "      <th>9</th>\n",
       "      <th>...</th>\n",
       "      <th>50</th>\n",
       "      <th>51</th>\n",
       "      <th>52</th>\n",
       "      <th>53</th>\n",
       "      <th>54</th>\n",
       "      <th>55</th>\n",
       "      <th>56</th>\n",
       "      <th>57</th>\n",
       "      <th>58</th>\n",
       "      <th>59</th>\n",
       "    </tr>\n",
       "  </thead>\n",
       "  <tbody>\n",
       "    <tr>\n",
       "      <th>0</th>\n",
       "      <td>1714.754966</td>\n",
       "      <td>337.152998</td>\n",
       "      <td>1715.686838</td>\n",
       "      <td>338.062887</td>\n",
       "      <td>1716.616465</td>\n",
       "      <td>338.982253</td>\n",
       "      <td>1717.519850</td>\n",
       "      <td>339.857041</td>\n",
       "      <td>1718.448177</td>\n",
       "      <td>340.765761</td>\n",
       "      <td>...</td>\n",
       "      <td>1737.874578</td>\n",
       "      <td>360.088961</td>\n",
       "      <td>1738.780519</td>\n",
       "      <td>360.999062</td>\n",
       "      <td>1739.684379</td>\n",
       "      <td>361.901338</td>\n",
       "      <td>1740.582790</td>\n",
       "      <td>362.805350</td>\n",
       "      <td>1741.466711</td>\n",
       "      <td>363.696479</td>\n",
       "    </tr>\n",
       "    <tr>\n",
       "      <th>1</th>\n",
       "      <td>725.538248</td>\n",
       "      <td>1229.634701</td>\n",
       "      <td>725.493936</td>\n",
       "      <td>1229.383913</td>\n",
       "      <td>725.434163</td>\n",
       "      <td>1229.147938</td>\n",
       "      <td>725.375130</td>\n",
       "      <td>1228.925168</td>\n",
       "      <td>725.319084</td>\n",
       "      <td>1228.706772</td>\n",
       "      <td>...</td>\n",
       "      <td>723.813600</td>\n",
       "      <td>1224.653576</td>\n",
       "      <td>723.736452</td>\n",
       "      <td>1224.476419</td>\n",
       "      <td>723.660653</td>\n",
       "      <td>1224.302618</td>\n",
       "      <td>723.587294</td>\n",
       "      <td>1224.130096</td>\n",
       "      <td>723.513988</td>\n",
       "      <td>1223.960699</td>\n",
       "    </tr>\n",
       "    <tr>\n",
       "      <th>2</th>\n",
       "      <td>574.008883</td>\n",
       "      <td>1244.649522</td>\n",
       "      <td>574.225067</td>\n",
       "      <td>1244.577632</td>\n",
       "      <td>574.438119</td>\n",
       "      <td>1244.496274</td>\n",
       "      <td>574.660810</td>\n",
       "      <td>1244.425675</td>\n",
       "      <td>574.879038</td>\n",
       "      <td>1244.345709</td>\n",
       "      <td>...</td>\n",
       "      <td>579.507831</td>\n",
       "      <td>1242.623227</td>\n",
       "      <td>579.729951</td>\n",
       "      <td>1242.543056</td>\n",
       "      <td>579.950492</td>\n",
       "      <td>1242.462806</td>\n",
       "      <td>580.161826</td>\n",
       "      <td>1242.384103</td>\n",
       "      <td>580.370204</td>\n",
       "      <td>1242.307448</td>\n",
       "    </tr>\n",
       "    <tr>\n",
       "      <th>3</th>\n",
       "      <td>1691.328821</td>\n",
       "      <td>315.587190</td>\n",
       "      <td>1691.953164</td>\n",
       "      <td>316.155109</td>\n",
       "      <td>1692.573282</td>\n",
       "      <td>316.724180</td>\n",
       "      <td>1693.205602</td>\n",
       "      <td>317.312384</td>\n",
       "      <td>1693.831289</td>\n",
       "      <td>317.892548</td>\n",
       "      <td>...</td>\n",
       "      <td>1706.920017</td>\n",
       "      <td>330.100088</td>\n",
       "      <td>1707.535061</td>\n",
       "      <td>330.675879</td>\n",
       "      <td>1708.145286</td>\n",
       "      <td>331.249256</td>\n",
       "      <td>1708.746527</td>\n",
       "      <td>331.816992</td>\n",
       "      <td>1709.339794</td>\n",
       "      <td>332.373452</td>\n",
       "    </tr>\n",
       "    <tr>\n",
       "      <th>4</th>\n",
       "      <td>2122.795843</td>\n",
       "      <td>677.107997</td>\n",
       "      <td>2121.521643</td>\n",
       "      <td>676.005512</td>\n",
       "      <td>2120.253507</td>\n",
       "      <td>674.913263</td>\n",
       "      <td>2118.996030</td>\n",
       "      <td>673.829908</td>\n",
       "      <td>2117.718326</td>\n",
       "      <td>672.724519</td>\n",
       "      <td>...</td>\n",
       "      <td>2091.466030</td>\n",
       "      <td>649.657955</td>\n",
       "      <td>2090.244000</td>\n",
       "      <td>648.571481</td>\n",
       "      <td>2089.027628</td>\n",
       "      <td>647.491582</td>\n",
       "      <td>2087.827163</td>\n",
       "      <td>646.424308</td>\n",
       "      <td>2086.645987</td>\n",
       "      <td>645.367931</td>\n",
       "    </tr>\n",
       "    <tr>\n",
       "      <th>...</th>\n",
       "      <td>...</td>\n",
       "      <td>...</td>\n",
       "      <td>...</td>\n",
       "      <td>...</td>\n",
       "      <td>...</td>\n",
       "      <td>...</td>\n",
       "      <td>...</td>\n",
       "      <td>...</td>\n",
       "      <td>...</td>\n",
       "      <td>...</td>\n",
       "      <td>...</td>\n",
       "      <td>...</td>\n",
       "      <td>...</td>\n",
       "      <td>...</td>\n",
       "      <td>...</td>\n",
       "      <td>...</td>\n",
       "      <td>...</td>\n",
       "      <td>...</td>\n",
       "      <td>...</td>\n",
       "      <td>...</td>\n",
       "      <td>...</td>\n",
       "    </tr>\n",
       "    <tr>\n",
       "      <th>3195</th>\n",
       "      <td>256.403337</td>\n",
       "      <td>805.453735</td>\n",
       "      <td>256.627745</td>\n",
       "      <td>805.260426</td>\n",
       "      <td>256.861576</td>\n",
       "      <td>805.060293</td>\n",
       "      <td>257.096856</td>\n",
       "      <td>804.857556</td>\n",
       "      <td>257.332394</td>\n",
       "      <td>804.650381</td>\n",
       "      <td>...</td>\n",
       "      <td>262.509477</td>\n",
       "      <td>800.202817</td>\n",
       "      <td>262.757579</td>\n",
       "      <td>799.993188</td>\n",
       "      <td>263.002799</td>\n",
       "      <td>799.785176</td>\n",
       "      <td>263.244069</td>\n",
       "      <td>799.579707</td>\n",
       "      <td>263.485228</td>\n",
       "      <td>799.379496</td>\n",
       "    </tr>\n",
       "    <tr>\n",
       "      <th>3196</th>\n",
       "      <td>587.854537</td>\n",
       "      <td>1153.992771</td>\n",
       "      <td>587.884850</td>\n",
       "      <td>1153.377223</td>\n",
       "      <td>587.909963</td>\n",
       "      <td>1152.738283</td>\n",
       "      <td>587.935036</td>\n",
       "      <td>1152.082064</td>\n",
       "      <td>587.966248</td>\n",
       "      <td>1151.442510</td>\n",
       "      <td>...</td>\n",
       "      <td>588.540362</td>\n",
       "      <td>1137.838276</td>\n",
       "      <td>588.562673</td>\n",
       "      <td>1137.194338</td>\n",
       "      <td>588.585903</td>\n",
       "      <td>1136.559752</td>\n",
       "      <td>588.609307</td>\n",
       "      <td>1135.935195</td>\n",
       "      <td>588.630456</td>\n",
       "      <td>1135.320296</td>\n",
       "    </tr>\n",
       "    <tr>\n",
       "      <th>3197</th>\n",
       "      <td>1755.590097</td>\n",
       "      <td>444.188703</td>\n",
       "      <td>1755.428589</td>\n",
       "      <td>444.503122</td>\n",
       "      <td>1755.266447</td>\n",
       "      <td>444.813995</td>\n",
       "      <td>1755.103499</td>\n",
       "      <td>445.117049</td>\n",
       "      <td>1754.941840</td>\n",
       "      <td>445.424448</td>\n",
       "      <td>...</td>\n",
       "      <td>1751.610729</td>\n",
       "      <td>451.458892</td>\n",
       "      <td>1751.456961</td>\n",
       "      <td>451.726893</td>\n",
       "      <td>1751.304201</td>\n",
       "      <td>451.998696</td>\n",
       "      <td>1751.155433</td>\n",
       "      <td>452.263664</td>\n",
       "      <td>1751.008772</td>\n",
       "      <td>452.520906</td>\n",
       "    </tr>\n",
       "    <tr>\n",
       "      <th>3198</th>\n",
       "      <td>574.617161</td>\n",
       "      <td>1288.840440</td>\n",
       "      <td>574.527028</td>\n",
       "      <td>1288.617821</td>\n",
       "      <td>574.438179</td>\n",
       "      <td>1288.406879</td>\n",
       "      <td>574.349573</td>\n",
       "      <td>1288.197326</td>\n",
       "      <td>574.253522</td>\n",
       "      <td>1287.976841</td>\n",
       "      <td>...</td>\n",
       "      <td>572.080557</td>\n",
       "      <td>1283.233384</td>\n",
       "      <td>571.974399</td>\n",
       "      <td>1283.004593</td>\n",
       "      <td>571.865662</td>\n",
       "      <td>1282.776034</td>\n",
       "      <td>571.758112</td>\n",
       "      <td>1282.548849</td>\n",
       "      <td>571.652247</td>\n",
       "      <td>1282.326361</td>\n",
       "    </tr>\n",
       "    <tr>\n",
       "      <th>3199</th>\n",
       "      <td>584.720042</td>\n",
       "      <td>1164.680480</td>\n",
       "      <td>584.778920</td>\n",
       "      <td>1163.668119</td>\n",
       "      <td>584.836233</td>\n",
       "      <td>1162.672909</td>\n",
       "      <td>584.893550</td>\n",
       "      <td>1161.699983</td>\n",
       "      <td>584.946230</td>\n",
       "      <td>1160.716608</td>\n",
       "      <td>...</td>\n",
       "      <td>585.716840</td>\n",
       "      <td>1141.012194</td>\n",
       "      <td>585.744749</td>\n",
       "      <td>1140.112781</td>\n",
       "      <td>585.765576</td>\n",
       "      <td>1139.217124</td>\n",
       "      <td>585.784944</td>\n",
       "      <td>1138.332028</td>\n",
       "      <td>585.807510</td>\n",
       "      <td>1137.462901</td>\n",
       "    </tr>\n",
       "  </tbody>\n",
       "</table>\n",
       "<p>3200 rows × 60 columns</p>\n",
       "</div>"
      ],
      "text/plain": [
       "               0            1            2            3            4   \\\n",
       "0     1714.754966   337.152998  1715.686838   338.062887  1716.616465   \n",
       "1      725.538248  1229.634701   725.493936  1229.383913   725.434163   \n",
       "2      574.008883  1244.649522   574.225067  1244.577632   574.438119   \n",
       "3     1691.328821   315.587190  1691.953164   316.155109  1692.573282   \n",
       "4     2122.795843   677.107997  2121.521643   676.005512  2120.253507   \n",
       "...           ...          ...          ...          ...          ...   \n",
       "3195   256.403337   805.453735   256.627745   805.260426   256.861576   \n",
       "3196   587.854537  1153.992771   587.884850  1153.377223   587.909963   \n",
       "3197  1755.590097   444.188703  1755.428589   444.503122  1755.266447   \n",
       "3198   574.617161  1288.840440   574.527028  1288.617821   574.438179   \n",
       "3199   584.720042  1164.680480   584.778920  1163.668119   584.836233   \n",
       "\n",
       "               5            6            7            8            9   ...  \\\n",
       "0      338.982253  1717.519850   339.857041  1718.448177   340.765761  ...   \n",
       "1     1229.147938   725.375130  1228.925168   725.319084  1228.706772  ...   \n",
       "2     1244.496274   574.660810  1244.425675   574.879038  1244.345709  ...   \n",
       "3      316.724180  1693.205602   317.312384  1693.831289   317.892548  ...   \n",
       "4      674.913263  2118.996030   673.829908  2117.718326   672.724519  ...   \n",
       "...           ...          ...          ...          ...          ...  ...   \n",
       "3195   805.060293   257.096856   804.857556   257.332394   804.650381  ...   \n",
       "3196  1152.738283   587.935036  1152.082064   587.966248  1151.442510  ...   \n",
       "3197   444.813995  1755.103499   445.117049  1754.941840   445.424448  ...   \n",
       "3198  1288.406879   574.349573  1288.197326   574.253522  1287.976841  ...   \n",
       "3199  1162.672909   584.893550  1161.699983   584.946230  1160.716608  ...   \n",
       "\n",
       "               50           51           52           53           54  \\\n",
       "0     1737.874578   360.088961  1738.780519   360.999062  1739.684379   \n",
       "1      723.813600  1224.653576   723.736452  1224.476419   723.660653   \n",
       "2      579.507831  1242.623227   579.729951  1242.543056   579.950492   \n",
       "3     1706.920017   330.100088  1707.535061   330.675879  1708.145286   \n",
       "4     2091.466030   649.657955  2090.244000   648.571481  2089.027628   \n",
       "...           ...          ...          ...          ...          ...   \n",
       "3195   262.509477   800.202817   262.757579   799.993188   263.002799   \n",
       "3196   588.540362  1137.838276   588.562673  1137.194338   588.585903   \n",
       "3197  1751.610729   451.458892  1751.456961   451.726893  1751.304201   \n",
       "3198   572.080557  1283.233384   571.974399  1283.004593   571.865662   \n",
       "3199   585.716840  1141.012194   585.744749  1140.112781   585.765576   \n",
       "\n",
       "               55           56           57           58           59  \n",
       "0      361.901338  1740.582790   362.805350  1741.466711   363.696479  \n",
       "1     1224.302618   723.587294  1224.130096   723.513988  1223.960699  \n",
       "2     1242.462806   580.161826  1242.384103   580.370204  1242.307448  \n",
       "3      331.249256  1708.746527   331.816992  1709.339794   332.373452  \n",
       "4      647.491582  2087.827163   646.424308  2086.645987   645.367931  \n",
       "...           ...          ...          ...          ...          ...  \n",
       "3195   799.785176   263.244069   799.579707   263.485228   799.379496  \n",
       "3196  1136.559752   588.609307  1135.935195   588.630456  1135.320296  \n",
       "3197   451.998696  1751.155433   452.263664  1751.008772   452.520906  \n",
       "3198  1282.776034   571.758112  1282.548849   571.652247  1282.326361  \n",
       "3199  1139.217124   585.784944  1138.332028   585.807510  1137.462901  \n",
       "\n",
       "[3200 rows x 60 columns]"
      ]
     },
     "execution_count": 65,
     "metadata": {},
     "output_type": "execute_result"
    }
   ],
   "source": [
    "df"
   ]
  },
  {
   "cell_type": "code",
   "execution_count": 66,
   "metadata": {},
   "outputs": [],
   "source": [
    "df.insert(0, 'ID', pd.read_csv('sample_submission.csv')['ID'])"
   ]
  },
  {
   "cell_type": "code",
   "execution_count": 67,
   "metadata": {},
   "outputs": [],
   "source": [
    "df.columns = pd.read_csv('sample_submission.csv').columns"
   ]
  },
  {
   "cell_type": "code",
   "execution_count": 68,
   "metadata": {},
   "outputs": [],
   "source": [
    "df.to_csv('submission.csv', index=False)"
   ]
  },
  {
   "cell_type": "markdown",
   "metadata": {},
   "source": [
    "# Prediction of Train data vs. ground truth"
   ]
  },
  {
   "cell_type": "code",
   "execution_count": 74,
   "metadata": {},
   "outputs": [],
   "source": [
    "lst = [21, 27, 5333, 31211, 31666, 39405]"
   ]
  },
  {
   "cell_type": "code",
   "execution_count": 75,
   "metadata": {},
   "outputs": [],
   "source": [
    "#create only targeted agent list\n",
    "\n",
    "random = []\n",
    "truth = []\n",
    "for i in lst:\n",
    "    val = train_dataset[i]\n",
    "    p_in = val['p_in'][val['agent_id'] == val['track_id'][:, 0, 0]]\n",
    "    p_out = val['p_out'][val['agent_id'] == val['track_id'][:, 0, 0]]\n",
    "    for c in range(len(p_in)):\n",
    "        random.append(p_in[c].reshape(19*2))\n",
    "        truth.append(p_out[c].reshape(30*2))\n",
    "random = np.array(random)\n",
    "truth = np.array(truth)"
   ]
  },
  {
   "cell_type": "code",
   "execution_count": 76,
   "metadata": {},
   "outputs": [
    {
     "data": {
      "application/vnd.jupyter.widget-view+json": {
       "model_id": "ac96cbbde0b644c9b0cba13a3c95ddbd",
       "version_major": 2,
       "version_minor": 0
      },
      "text/plain": [
       "HBox(children=(FloatProgress(value=0.0, max=60.0), HTML(value='')))"
      ]
     },
     "metadata": {},
     "output_type": "display_data"
    },
    {
     "name": "stdout",
     "output_type": "stream",
     "text": [
      "\n"
     ]
    }
   ],
   "source": [
    "for i in tqdm(range(60)):\n",
    "    pred = regs[i].predict(random)\n",
    "    random = np.insert(random, 38 + i, pred, axis=1)"
   ]
  },
  {
   "cell_type": "code",
   "execution_count": 77,
   "metadata": {},
   "outputs": [],
   "source": [
    "prediction = random[:, -60:]"
   ]
  },
  {
   "cell_type": "code",
   "execution_count": 78,
   "metadata": {},
   "outputs": [
    {
     "data": {
      "text/plain": [
       "((60,), (60,))"
      ]
     },
     "execution_count": 78,
     "metadata": {},
     "output_type": "execute_result"
    }
   ],
   "source": [
    "truth[0].shape, prediction[0].shape"
   ]
  },
  {
   "cell_type": "code",
   "execution_count": 81,
   "metadata": {},
   "outputs": [
    {
     "data": {
      "image/png": "[encoded data removed]",
      "text/plain": [
       "<Figure size 864x576 with 6 Axes>"
      ]
     },
     "metadata": {
      "needs_background": "light"
     },
     "output_type": "display_data"
    }
   ],
   "source": [
    "num = 0\n",
    "fig, axs = plt.subplots(2, 3, figsize = (12, 8))\n",
    "for i in range(2):\n",
    "    for j in range(3):\n",
    "        axs[i, j].scatter(prediction[num][::2], prediction[num][1::2], label='prediction')\n",
    "        axs[i, j].scatter(truth[num][::2], truth[num][1::2], label='ground truth')\n",
    "        axs[i, j].set_title(f\"Scene {lst[num]}\")\n",
    "        axs[i, j].legend()\n",
    "        num += 1\n",
    "fig.suptitle('Prediction vs. Ground Truth for 6 random target IDs the baseline model', fontsize=16)\n",
    "fig.savefig(\"prediction_sample.png\")\n",
    "fig.show()"
   ]
  },
  {
   "cell_type": "code",
   "execution_count": 2,
   "metadata": {},
   "outputs": [
    {
     "data": {
      "text/html": [
       "<div>\n",
       "<style scoped>\n",
       "    .dataframe tbody tr th:only-of-type {\n",
       "        vertical-align: middle;\n",
       "    }\n",
       "\n",
       "    .dataframe tbody tr th {\n",
       "        vertical-align: top;\n",
       "    }\n",
       "\n",
       "    .dataframe thead th {\n",
       "        text-align: right;\n",
       "    }\n",
       "</style>\n",
       "<table border=\"1\" class=\"dataframe\">\n",
       "  <thead>\n",
       "    <tr style=\"text-align: right;\">\n",
       "      <th></th>\n",
       "      <th>ID</th>\n",
       "      <th>v1</th>\n",
       "      <th>v2</th>\n",
       "      <th>v3</th>\n",
       "      <th>v4</th>\n",
       "      <th>v5</th>\n",
       "      <th>v6</th>\n",
       "      <th>v7</th>\n",
       "      <th>v8</th>\n",
       "      <th>v9</th>\n",
       "      <th>...</th>\n",
       "      <th>v51</th>\n",
       "      <th>v52</th>\n",
       "      <th>v53</th>\n",
       "      <th>v54</th>\n",
       "      <th>v55</th>\n",
       "      <th>v56</th>\n",
       "      <th>v57</th>\n",
       "      <th>v58</th>\n",
       "      <th>v59</th>\n",
       "      <th>v60</th>\n",
       "    </tr>\n",
       "  </thead>\n",
       "  <tbody>\n",
       "    <tr>\n",
       "      <th>15</th>\n",
       "      <td>10196</td>\n",
       "      <td>2140.634430</td>\n",
       "      <td>811.519764</td>\n",
       "      <td>2141.037733</td>\n",
       "      <td>811.077851</td>\n",
       "      <td>2141.450452</td>\n",
       "      <td>810.617266</td>\n",
       "      <td>2141.855869</td>\n",
       "      <td>810.164880</td>\n",
       "      <td>2142.260882</td>\n",
       "      <td>...</td>\n",
       "      <td>2150.638153</td>\n",
       "      <td>800.552708</td>\n",
       "      <td>2151.028615</td>\n",
       "      <td>800.139758</td>\n",
       "      <td>2151.412323</td>\n",
       "      <td>799.724014</td>\n",
       "      <td>2151.787364</td>\n",
       "      <td>799.317293</td>\n",
       "      <td>2152.158770</td>\n",
       "      <td>798.925578</td>\n",
       "    </tr>\n",
       "    <tr>\n",
       "      <th>16</th>\n",
       "      <td>10200</td>\n",
       "      <td>2163.191190</td>\n",
       "      <td>780.077495</td>\n",
       "      <td>2163.908063</td>\n",
       "      <td>779.114778</td>\n",
       "      <td>2164.628585</td>\n",
       "      <td>778.054576</td>\n",
       "      <td>2165.335401</td>\n",
       "      <td>776.924753</td>\n",
       "      <td>2166.058187</td>\n",
       "      <td>...</td>\n",
       "      <td>2180.897898</td>\n",
       "      <td>751.775358</td>\n",
       "      <td>2181.580331</td>\n",
       "      <td>750.629811</td>\n",
       "      <td>2182.254052</td>\n",
       "      <td>749.494803</td>\n",
       "      <td>2182.921828</td>\n",
       "      <td>748.379527</td>\n",
       "      <td>2183.577535</td>\n",
       "      <td>747.296778</td>\n",
       "    </tr>\n",
       "    <tr>\n",
       "      <th>17</th>\n",
       "      <td>10214</td>\n",
       "      <td>2161.455370</td>\n",
       "      <td>813.337710</td>\n",
       "      <td>2161.178158</td>\n",
       "      <td>813.018274</td>\n",
       "      <td>2160.899755</td>\n",
       "      <td>812.699652</td>\n",
       "      <td>2160.619449</td>\n",
       "      <td>812.375713</td>\n",
       "      <td>2160.350887</td>\n",
       "      <td>...</td>\n",
       "      <td>2154.977888</td>\n",
       "      <td>806.195495</td>\n",
       "      <td>2154.730439</td>\n",
       "      <td>805.934402</td>\n",
       "      <td>2154.486315</td>\n",
       "      <td>805.672852</td>\n",
       "      <td>2154.248942</td>\n",
       "      <td>805.425767</td>\n",
       "      <td>2154.013313</td>\n",
       "      <td>805.180185</td>\n",
       "    </tr>\n",
       "    <tr>\n",
       "      <th>18</th>\n",
       "      <td>10219</td>\n",
       "      <td>726.577571</td>\n",
       "      <td>1522.612585</td>\n",
       "      <td>727.032241</td>\n",
       "      <td>1522.656070</td>\n",
       "      <td>727.478982</td>\n",
       "      <td>1522.679629</td>\n",
       "      <td>727.941341</td>\n",
       "      <td>1522.713233</td>\n",
       "      <td>728.404263</td>\n",
       "      <td>...</td>\n",
       "      <td>738.155012</td>\n",
       "      <td>1523.543698</td>\n",
       "      <td>738.616710</td>\n",
       "      <td>1523.590244</td>\n",
       "      <td>739.079559</td>\n",
       "      <td>1523.639951</td>\n",
       "      <td>739.531742</td>\n",
       "      <td>1523.690206</td>\n",
       "      <td>739.977852</td>\n",
       "      <td>1523.738766</td>\n",
       "    </tr>\n",
       "    <tr>\n",
       "      <th>19</th>\n",
       "      <td>10232</td>\n",
       "      <td>2084.028008</td>\n",
       "      <td>650.293136</td>\n",
       "      <td>2082.582167</td>\n",
       "      <td>649.290328</td>\n",
       "      <td>2081.115281</td>\n",
       "      <td>648.264777</td>\n",
       "      <td>2079.531037</td>\n",
       "      <td>647.124722</td>\n",
       "      <td>2077.997957</td>\n",
       "      <td>...</td>\n",
       "      <td>2046.374950</td>\n",
       "      <td>624.262211</td>\n",
       "      <td>2044.873036</td>\n",
       "      <td>623.234653</td>\n",
       "      <td>2043.396824</td>\n",
       "      <td>622.218342</td>\n",
       "      <td>2041.949006</td>\n",
       "      <td>621.219383</td>\n",
       "      <td>2040.529671</td>\n",
       "      <td>620.242096</td>\n",
       "    </tr>\n",
       "  </tbody>\n",
       "</table>\n",
       "<p>5 rows × 61 columns</p>\n",
       "</div>"
      ],
      "text/plain": [
       "       ID           v1           v2           v3           v4           v5  \\\n",
       "15  10196  2140.634430   811.519764  2141.037733   811.077851  2141.450452   \n",
       "16  10200  2163.191190   780.077495  2163.908063   779.114778  2164.628585   \n",
       "17  10214  2161.455370   813.337710  2161.178158   813.018274  2160.899755   \n",
       "18  10219   726.577571  1522.612585   727.032241  1522.656070   727.478982   \n",
       "19  10232  2084.028008   650.293136  2082.582167   649.290328  2081.115281   \n",
       "\n",
       "             v6           v7           v8           v9  ...          v51  \\\n",
       "15   810.617266  2141.855869   810.164880  2142.260882  ...  2150.638153   \n",
       "16   778.054576  2165.335401   776.924753  2166.058187  ...  2180.897898   \n",
       "17   812.699652  2160.619449   812.375713  2160.350887  ...  2154.977888   \n",
       "18  1522.679629   727.941341  1522.713233   728.404263  ...   738.155012   \n",
       "19   648.264777  2079.531037   647.124722  2077.997957  ...  2046.374950   \n",
       "\n",
       "            v52          v53          v54          v55          v56  \\\n",
       "15   800.552708  2151.028615   800.139758  2151.412323   799.724014   \n",
       "16   751.775358  2181.580331   750.629811  2182.254052   749.494803   \n",
       "17   806.195495  2154.730439   805.934402  2154.486315   805.672852   \n",
       "18  1523.543698   738.616710  1523.590244   739.079559  1523.639951   \n",
       "19   624.262211  2044.873036   623.234653  2043.396824   622.218342   \n",
       "\n",
       "            v57          v58          v59          v60  \n",
       "15  2151.787364   799.317293  2152.158770   798.925578  \n",
       "16  2182.921828   748.379527  2183.577535   747.296778  \n",
       "17  2154.248942   805.425767  2154.013313   805.180185  \n",
       "18   739.531742  1523.690206   739.977852  1523.738766  \n",
       "19  2041.949006   621.219383  2040.529671   620.242096  \n",
       "\n",
       "[5 rows x 61 columns]"
      ]
     },
     "execution_count": 2,
     "metadata": {},
     "output_type": "execute_result"
    }
   ],
   "source": [
    "import pandas as pd\n",
    "pd.read_csv(\"submission.csv\").iloc[15:20]"
   ]
  },
  {
   "cell_type": "code",
   "execution_count": null,
   "metadata": {},
   "outputs": [],
   "source": []
  },
  {
   "cell_type": "code",
   "execution_count": null,
   "metadata": {},
   "outputs": [],
   "source": []
  },
  {
   "cell_type": "code",
   "execution_count": null,
   "metadata": {},
   "outputs": [],
   "source": []
  },
  {
   "cell_type": "code",
   "execution_count": null,
   "metadata": {},
   "outputs": [],
   "source": []
  },
  {
   "cell_type": "markdown",
   "metadata": {},
   "source": [
    "# Back up method"
   ]
  },
  {
   "cell_type": "code",
   "execution_count": null,
   "metadata": {},
   "outputs": [],
   "source": [
    "# Method 2. Seperate x and y to train 30 * 2 = 60 models\n",
    "\n",
    "x_in_train = in_train[:, list(range(0, 38, 2))]\n",
    "y_in_train = in_train[:, list(range(1, 39, 2))]\n",
    "x_out_train = out_train[:, list(range(0, 60, 2))]\n",
    "y_out_train = out_train[:, list(range(1, 61, 2))]\n",
    "\n",
    "# Training \n",
    "\n",
    "x_regs = [LinearRegression()] * 30\n",
    "\n",
    "for i in tqdm(range(30)):\n",
    "    x_regs[i] = LinearRegression().fit(x_in_train, x_out_train[:, i])\n",
    "    x_in_train = np.insert(x_in_train, 19 + i, x_out_train[:, i], axis=1)\n",
    "\n",
    "y_regs = [LinearRegression()] * 30\n",
    "\n",
    "for i in tqdm(range(30)):\n",
    "    y_regs[i] = LinearRegression().fit(y_in_train, y_out_train[:, i])\n",
    "    y_in_train = np.insert(y_in_train, 19 + i, y_out_train[:, i], axis=1)\n",
    "\n",
    "#random forest regressor?\n",
    "x_regs = [RandomForestRegressor()] * 30\n",
    "y_regs = [RandomForestRegressor()] * 30\n",
    "\n",
    "for i in tqdm(range(30)):\n",
    "    \n",
    "    x_regs[i] = RandomForestRegressor().fit(x_in_train, x_out_train[:, i])\n",
    "    x_in_train = np.insert(x_in_train, 19 + i, x_out_train[:, i], axis=1)\n",
    "\n",
    "    y_regs[i] = RandomForestRegressor().fit(y_in_train, y_out_train[:, i])\n",
    "    y_in_train = np.insert(y_in_train, 19 + i, y_out_train[:, i], axis=1)\n",
    "\n",
    "# Predicting\n",
    "\n",
    "in_test = []\n",
    "for i in tqdm(range((len(test_dataset)))):\n",
    "    val = test_dataset[i]\n",
    "    p_in = val['p_in'][test_dataset[0]['agent_id'] == test_dataset[0]['track_id'][:, 0, 0]]\n",
    "    for c in range(len(p_in)):\n",
    "        in_test.append(p_in[c].reshape(19*2))\n",
    "in_test = np.array(in_test)\n",
    "\n",
    "in_test.shape\n",
    "\n",
    "x_regs[0].coef_.shape\n",
    "\n",
    "x_in_test = in_test[:, list(range(0, 38, 2))]\n",
    "y_in_test = in_test[:, list(range(1, 39, 2))]\n",
    "\n",
    "for i in tqdm(range(30)):\n",
    "    pred = x_regs[i].predict(x_in_test)\n",
    "    x_in_test = np.insert(x_in_test, 19 + i, pred, axis=1)\n",
    "\n",
    "for i in tqdm(range(30)):\n",
    "    pred = y_regs[i].predict(y_in_test)\n",
    "    y_in_test = np.insert(y_in_test, 19 + i, pred, axis=1)\n",
    "\n",
    "df = pd.read_csv('sample_submission.csv')\n",
    "df\n",
    "\n",
    "for i in tqdm(range(3200)):\n",
    "    lst = []\n",
    "    num = 1\n",
    "    for n in range(19, 49):\n",
    "        df.iloc[i, num] = x_in_test[i, n]\n",
    "        num += 1\n",
    "        df.iloc[i, num] = y_in_test[i, n]\n",
    "        num += 1\n",
    "\n",
    "df.to_csv('submission.csv', index=False)\n",
    "\n",
    "df"
   ]
  }
 ],
 "metadata": {
  "kernelspec": {
   "display_name": "Python 3",
   "language": "python",
   "name": "python3"
  },
  "language_info": {
   "codemirror_mode": {
    "name": "ipython",
    "version": 3
   },
   "file_extension": ".py",
   "mimetype": "text/x-python",
   "name": "python",
   "nbconvert_exporter": "python",
   "pygments_lexer": "ipython3",
   "version": "3.7.6"
  }
 },
 "nbformat": 4,
 "nbformat_minor": 4
}
