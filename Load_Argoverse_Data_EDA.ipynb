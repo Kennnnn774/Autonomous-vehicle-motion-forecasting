{
 "cells": [
  {
   "cell_type": "markdown",
   "metadata": {},
   "source": [
    "## Exploratory Data Analysis"
   ]
  },
  {
   "cell_type": "code",
   "execution_count": 124,
   "metadata": {},
   "outputs": [],
   "source": [
    "import torch\n",
    "from torch.utils.data import Dataset, DataLoader\n",
    "import os, os.path \n",
    "import numpy \n",
    "import pickle\n",
    "from glob import glob\n",
    "import pandas as pd\n",
    "import numpy as np\n",
    "import matplotlib.pyplot as plt\n",
    "from tqdm.notebook import tqdm\n",
    "\n",
    "\"\"\"Change to the data folder\"\"\"\n",
    "train_path = \"./new_train/new_train\"\n",
    "val_path = './new_val_in/new_val_in'\n",
    "# number of sequences in each dataset\n",
    "# train:205942  val:3200 test: 36272 \n",
    "# sequences sampled at 10HZ rate"
   ]
  },
  {
   "cell_type": "markdown",
   "metadata": {},
   "source": [
    "### Create a dataset class "
   ]
  },
  {
   "cell_type": "code",
   "execution_count": 80,
   "metadata": {},
   "outputs": [],
   "source": [
    "class ArgoverseDataset(Dataset):\n",
    "    \n",
    "    \"\"\"Dataset class for Argoverse\"\"\"\n",
    "    def __init__(self, data_path: str, transform=None):\n",
    "        super(ArgoverseDataset, self).__init__()\n",
    "        self.data_path = data_path\n",
    "        self.transform = transform\n",
    "        self.pkl_list = glob(os.path.join(self.data_path, '*'))\n",
    "        self.pkl_list.sort()\n",
    "        \n",
    "    def __len__(self): #len(val_dataset)\n",
    "        return len(self.pkl_list)\n",
    "    \n",
    "    def __getitem__(self, idx): #val_dataset[0]\n",
    "        pkl_path = self.pkl_list[idx]\n",
    "        with open(pkl_path, 'rb') as f:\n",
    "            data = pickle.load(f)\n",
    "        if self.transform:\n",
    "            data = self.transform(data)\n",
    "        return data"
   ]
  },
  {
   "cell_type": "markdown",
   "metadata": {},
   "source": [
    "### Train/validation test dataset loading"
   ]
  },
  {
   "cell_type": "code",
   "execution_count": 82,
   "metadata": {},
   "outputs": [],
   "source": [
    "train_dataset = ArgoverseDataset(data_path=train_path) \n",
    "val_dataset  = ArgoverseDataset(data_path=val_path) "
   ]
  },
  {
   "cell_type": "markdown",
   "metadata": {},
   "source": [
    "### EDA"
   ]
  },
  {
   "cell_type": "code",
   "execution_count": 83,
   "metadata": {},
   "outputs": [
    {
     "data": {
      "text/plain": [
       "(205942, 3200)"
      ]
     },
     "execution_count": 83,
     "metadata": {},
     "output_type": "execute_result"
    }
   ],
   "source": [
    "len(train_dataset), len(val_dataset)"
   ]
  },
  {
   "cell_type": "markdown",
   "metadata": {},
   "source": [
    "GG, too many scenes, lets just take the first 5 scenens"
   ]
  },
  {
   "cell_type": "code",
   "execution_count": 54,
   "metadata": {},
   "outputs": [],
   "source": [
    "df = []\n",
    "for i, val in enumerate(val_dataset):\n",
    "    df.append(val)\n",
    "    if i >= 5:\n",
    "        break\n",
    "df = pd.DataFrame(df)"
   ]
  },
  {
   "cell_type": "code",
   "execution_count": 57,
   "metadata": {},
   "outputs": [
    {
     "data": {
      "text/plain": [
       "Index(['city', 'lane', 'lane_norm', 'scene_idx', 'agent_id', 'car_mask',\n",
       "       'p_in', 'v_in', 'p_out', 'v_out', 'track_id'],\n",
       "      dtype='object')"
      ]
     },
     "execution_count": 57,
     "metadata": {},
     "output_type": "execute_result"
    }
   ],
   "source": [
    "df.columns"
   ]
  },
  {
   "cell_type": "code",
   "execution_count": 63,
   "metadata": {},
   "outputs": [
    {
     "data": {
      "text/html": [
       "<div>\n",
       "<style scoped>\n",
       "    .dataframe tbody tr th:only-of-type {\n",
       "        vertical-align: middle;\n",
       "    }\n",
       "\n",
       "    .dataframe tbody tr th {\n",
       "        vertical-align: top;\n",
       "    }\n",
       "\n",
       "    .dataframe thead th {\n",
       "        text-align: right;\n",
       "    }\n",
       "</style>\n",
       "<table border=\"1\" class=\"dataframe\">\n",
       "  <thead>\n",
       "    <tr style=\"text-align: right;\">\n",
       "      <th></th>\n",
       "      <th>city</th>\n",
       "      <th>lane</th>\n",
       "      <th>lane_norm</th>\n",
       "      <th>scene_idx</th>\n",
       "      <th>agent_id</th>\n",
       "      <th>car_mask</th>\n",
       "      <th>p_in</th>\n",
       "      <th>v_in</th>\n",
       "      <th>p_out</th>\n",
       "      <th>v_out</th>\n",
       "      <th>track_id</th>\n",
       "    </tr>\n",
       "  </thead>\n",
       "  <tbody>\n",
       "    <tr>\n",
       "      <th>0</th>\n",
       "      <td>scalar</td>\n",
       "      <td>(72, 3)</td>\n",
       "      <td>(72, 3)</td>\n",
       "      <td>scalar</td>\n",
       "      <td>scalar</td>\n",
       "      <td>(60, 1)</td>\n",
       "      <td>(60, 19, 2)</td>\n",
       "      <td>(60, 19, 2)</td>\n",
       "      <td>(60, 30, 2)</td>\n",
       "      <td>(60, 30, 2)</td>\n",
       "      <td>(60, 30, 1)</td>\n",
       "    </tr>\n",
       "    <tr>\n",
       "      <th>1</th>\n",
       "      <td>scalar</td>\n",
       "      <td>(261, 3)</td>\n",
       "      <td>(261, 3)</td>\n",
       "      <td>scalar</td>\n",
       "      <td>scalar</td>\n",
       "      <td>(60, 1)</td>\n",
       "      <td>(60, 19, 2)</td>\n",
       "      <td>(60, 19, 2)</td>\n",
       "      <td>(60, 30, 2)</td>\n",
       "      <td>(60, 30, 2)</td>\n",
       "      <td>(60, 30, 1)</td>\n",
       "    </tr>\n",
       "    <tr>\n",
       "      <th>2</th>\n",
       "      <td>scalar</td>\n",
       "      <td>(288, 3)</td>\n",
       "      <td>(288, 3)</td>\n",
       "      <td>scalar</td>\n",
       "      <td>scalar</td>\n",
       "      <td>(60, 1)</td>\n",
       "      <td>(60, 19, 2)</td>\n",
       "      <td>(60, 19, 2)</td>\n",
       "      <td>(60, 30, 2)</td>\n",
       "      <td>(60, 30, 2)</td>\n",
       "      <td>(60, 30, 1)</td>\n",
       "    </tr>\n",
       "    <tr>\n",
       "      <th>3</th>\n",
       "      <td>scalar</td>\n",
       "      <td>(378, 3)</td>\n",
       "      <td>(378, 3)</td>\n",
       "      <td>scalar</td>\n",
       "      <td>scalar</td>\n",
       "      <td>(60, 1)</td>\n",
       "      <td>(60, 19, 2)</td>\n",
       "      <td>(60, 19, 2)</td>\n",
       "      <td>(60, 30, 2)</td>\n",
       "      <td>(60, 30, 2)</td>\n",
       "      <td>(60, 30, 1)</td>\n",
       "    </tr>\n",
       "    <tr>\n",
       "      <th>4</th>\n",
       "      <td>scalar</td>\n",
       "      <td>(306, 3)</td>\n",
       "      <td>(306, 3)</td>\n",
       "      <td>scalar</td>\n",
       "      <td>scalar</td>\n",
       "      <td>(60, 1)</td>\n",
       "      <td>(60, 19, 2)</td>\n",
       "      <td>(60, 19, 2)</td>\n",
       "      <td>(60, 30, 2)</td>\n",
       "      <td>(60, 30, 2)</td>\n",
       "      <td>(60, 30, 1)</td>\n",
       "    </tr>\n",
       "    <tr>\n",
       "      <th>5</th>\n",
       "      <td>scalar</td>\n",
       "      <td>(585, 3)</td>\n",
       "      <td>(585, 3)</td>\n",
       "      <td>scalar</td>\n",
       "      <td>scalar</td>\n",
       "      <td>(60, 1)</td>\n",
       "      <td>(60, 19, 2)</td>\n",
       "      <td>(60, 19, 2)</td>\n",
       "      <td>(60, 30, 2)</td>\n",
       "      <td>(60, 30, 2)</td>\n",
       "      <td>(60, 30, 1)</td>\n",
       "    </tr>\n",
       "  </tbody>\n",
       "</table>\n",
       "</div>"
      ],
      "text/plain": [
       "     city      lane lane_norm scene_idx agent_id car_mask         p_in  \\\n",
       "0  scalar   (72, 3)   (72, 3)    scalar   scalar  (60, 1)  (60, 19, 2)   \n",
       "1  scalar  (261, 3)  (261, 3)    scalar   scalar  (60, 1)  (60, 19, 2)   \n",
       "2  scalar  (288, 3)  (288, 3)    scalar   scalar  (60, 1)  (60, 19, 2)   \n",
       "3  scalar  (378, 3)  (378, 3)    scalar   scalar  (60, 1)  (60, 19, 2)   \n",
       "4  scalar  (306, 3)  (306, 3)    scalar   scalar  (60, 1)  (60, 19, 2)   \n",
       "5  scalar  (585, 3)  (585, 3)    scalar   scalar  (60, 1)  (60, 19, 2)   \n",
       "\n",
       "          v_in        p_out        v_out     track_id  \n",
       "0  (60, 19, 2)  (60, 30, 2)  (60, 30, 2)  (60, 30, 1)  \n",
       "1  (60, 19, 2)  (60, 30, 2)  (60, 30, 2)  (60, 30, 1)  \n",
       "2  (60, 19, 2)  (60, 30, 2)  (60, 30, 2)  (60, 30, 1)  \n",
       "3  (60, 19, 2)  (60, 30, 2)  (60, 30, 2)  (60, 30, 1)  \n",
       "4  (60, 19, 2)  (60, 30, 2)  (60, 30, 2)  (60, 30, 1)  \n",
       "5  (60, 19, 2)  (60, 30, 2)  (60, 30, 2)  (60, 30, 1)  "
      ]
     },
     "execution_count": 63,
     "metadata": {},
     "output_type": "execute_result"
    }
   ],
   "source": [
    "def shape_viz(x):\n",
    "    try:\n",
    "        return x.shape\n",
    "    except:\n",
    "        return 'scalar'\n",
    "df.applymap(shape_viz)    "
   ]
  },
  {
   "cell_type": "code",
   "execution_count": 66,
   "metadata": {},
   "outputs": [
    {
     "data": {
      "text/html": [
       "<div>\n",
       "<style scoped>\n",
       "    .dataframe tbody tr th:only-of-type {\n",
       "        vertical-align: middle;\n",
       "    }\n",
       "\n",
       "    .dataframe tbody tr th {\n",
       "        vertical-align: top;\n",
       "    }\n",
       "\n",
       "    .dataframe thead th {\n",
       "        text-align: right;\n",
       "    }\n",
       "</style>\n",
       "<table border=\"1\" class=\"dataframe\">\n",
       "  <thead>\n",
       "    <tr style=\"text-align: right;\">\n",
       "      <th></th>\n",
       "      <th>city</th>\n",
       "      <th>lane</th>\n",
       "      <th>lane_norm</th>\n",
       "      <th>scene_idx</th>\n",
       "      <th>agent_id</th>\n",
       "      <th>car_mask</th>\n",
       "      <th>p_in</th>\n",
       "      <th>v_in</th>\n",
       "      <th>p_out</th>\n",
       "      <th>v_out</th>\n",
       "      <th>track_id</th>\n",
       "    </tr>\n",
       "  </thead>\n",
       "  <tbody>\n",
       "    <tr>\n",
       "      <th>0</th>\n",
       "      <td>PIT</td>\n",
       "      <td>[[3278.8716, 1968.7596, 0.0], [3282.6606, 1972...</td>\n",
       "      <td>[[3.7926118, 3.4899662, 0.0], [3.7891939, 3.49...</td>\n",
       "      <td>0</td>\n",
       "      <td>00000000-0000-0000-0000-000000000062</td>\n",
       "      <td>[[1.0], [1.0], [1.0], [1.0], [1.0], [1.0], [0....</td>\n",
       "      <td>[[[3277.29638671875, 1947.6260986328125], [327...</td>\n",
       "      <td>[[[-0.0002748711849562824, -0.0002382324310019...</td>\n",
       "      <td>[[[3277.29638671875, 1947.625732421875], [3277...</td>\n",
       "      <td>[[[0.00022307495237328112, -0.0007175673381425...</td>\n",
       "      <td>[[[00000000-0000-0000-0000-000000000000], [000...</td>\n",
       "    </tr>\n",
       "    <tr>\n",
       "      <th>1</th>\n",
       "      <td>MIA</td>\n",
       "      <td>[[825.8388, 2049.997, 0.0], [825.92194, 2047.9...</td>\n",
       "      <td>[[0.08315584, -2.0102918, 0.0], [0.08315584, -...</td>\n",
       "      <td>1</td>\n",
       "      <td>00000000-0000-0000-0000-000000056485</td>\n",
       "      <td>[[1.0], [1.0], [1.0], [1.0], [1.0], [1.0], [1....</td>\n",
       "      <td>[[[823.799560546875, 2068.298828125], [823.800...</td>\n",
       "      <td>[[[0.0008385988767258823, 0.14282366633415222]...</td>\n",
       "      <td>[[[823.811279296875, 2068.350341796875], [823....</td>\n",
       "      <td>[[[-0.011649041436612606, 0.41563326120376587]...</td>\n",
       "      <td>[[[00000000-0000-0000-0000-000000000000], [000...</td>\n",
       "    </tr>\n",
       "  </tbody>\n",
       "</table>\n",
       "</div>"
      ],
      "text/plain": [
       "  city                                               lane  \\\n",
       "0  PIT  [[3278.8716, 1968.7596, 0.0], [3282.6606, 1972...   \n",
       "1  MIA  [[825.8388, 2049.997, 0.0], [825.92194, 2047.9...   \n",
       "\n",
       "                                           lane_norm  scene_idx  \\\n",
       "0  [[3.7926118, 3.4899662, 0.0], [3.7891939, 3.49...          0   \n",
       "1  [[0.08315584, -2.0102918, 0.0], [0.08315584, -...          1   \n",
       "\n",
       "                               agent_id  \\\n",
       "0  00000000-0000-0000-0000-000000000062   \n",
       "1  00000000-0000-0000-0000-000000056485   \n",
       "\n",
       "                                            car_mask  \\\n",
       "0  [[1.0], [1.0], [1.0], [1.0], [1.0], [1.0], [0....   \n",
       "1  [[1.0], [1.0], [1.0], [1.0], [1.0], [1.0], [1....   \n",
       "\n",
       "                                                p_in  \\\n",
       "0  [[[3277.29638671875, 1947.6260986328125], [327...   \n",
       "1  [[[823.799560546875, 2068.298828125], [823.800...   \n",
       "\n",
       "                                                v_in  \\\n",
       "0  [[[-0.0002748711849562824, -0.0002382324310019...   \n",
       "1  [[[0.0008385988767258823, 0.14282366633415222]...   \n",
       "\n",
       "                                               p_out  \\\n",
       "0  [[[3277.29638671875, 1947.625732421875], [3277...   \n",
       "1  [[[823.811279296875, 2068.350341796875], [823....   \n",
       "\n",
       "                                               v_out  \\\n",
       "0  [[[0.00022307495237328112, -0.0007175673381425...   \n",
       "1  [[[-0.011649041436612606, 0.41563326120376587]...   \n",
       "\n",
       "                                            track_id  \n",
       "0  [[[00000000-0000-0000-0000-000000000000], [000...  \n",
       "1  [[[00000000-0000-0000-0000-000000000000], [000...  "
      ]
     },
     "execution_count": 66,
     "metadata": {},
     "output_type": "execute_result"
    }
   ],
   "source": [
    "df.head(2)"
   ]
  },
  {
   "cell_type": "code",
   "execution_count": 79,
   "metadata": {},
   "outputs": [
    {
     "data": {
      "text/plain": [
       "array([[3277.29638672, 1947.62609863],\n",
       "       [3277.29614258, 1947.62597656],\n",
       "       [3277.29614258, 1947.62585449],\n",
       "       [3277.29614258, 1947.62597656]])"
      ]
     },
     "execution_count": 79,
     "metadata": {},
     "output_type": "execute_result"
    }
   ],
   "source": [
    "#df.car_mask[0] #make sense as we have 60 vehicles\n",
    "df.p_in[0][0][:4]"
   ]
  },
  {
   "cell_type": "markdown",
   "metadata": {},
   "source": [
    "Data Cleaning steps we will do according to the data description: https://www.kaggle.com/c/cse151b-spring/discussion/233734\n",
    "\n",
    "- lane and lane norm: For some reason, the z-coordinate is included, but is always 0, so you can ignore it and just look at the x,y.\n",
    "\n",
    "- We do not need to predict v_in and v_out for the final project?\n",
    "\n",
    "- If we used track id/agent id, we can just extract the last 8 char of the string\n",
    "\n",
    "- \n"
   ]
  },
  {
   "cell_type": "markdown",
   "metadata": {},
   "source": [
    "Important: is there any way we can filter the car mask to only include presenting cars in each scene?"
   ]
  },
  {
   "cell_type": "markdown",
   "metadata": {},
   "source": [
    "#### Qb.i what is the distribution of input positions for all agents (hint: use histogram)\n"
   ]
  },
  {
   "cell_type": "code",
   "execution_count": 126,
   "metadata": {},
   "outputs": [
    {
     "data": {
      "application/vnd.jupyter.widget-view+json": {
       "model_id": "1b51f35603554ed2b8fff9ffc208960a",
       "version_major": 2,
       "version_minor": 0
      },
      "text/plain": [
       "HBox(children=(FloatProgress(value=0.0, max=205942.0), HTML(value='')))"
      ]
     },
     "metadata": {},
     "output_type": "display_data"
    },
    {
     "name": "stdout",
     "output_type": "stream",
     "text": [
      "\n"
     ]
    }
   ],
   "source": [
    "input_distribution = []\n",
    "iterator = tqdm(enumerate(train_dataset), total=int(len(train_dataset)))\n",
    "for i, val in iterator:\n",
    "    masked_p_in = val['p_in'][val['car_mask'].reshape(-1) == 1]\n",
    "    masked_p_in = masked_p_in.reshape(masked_p_in.shape[0] * masked_p_in.shape[1], 2)\n",
    "    for p in masked_p_in:\n",
    "        input_distribution.append(p)"
   ]
  },
  {
   "cell_type": "code",
   "execution_count": 127,
   "metadata": {},
   "outputs": [],
   "source": [
    "input_distribution = np.array(input_distribution)"
   ]
  },
  {
   "cell_type": "code",
   "execution_count": 128,
   "metadata": {},
   "outputs": [
    {
     "data": {
      "text/plain": [
       "(34431249, 2)"
      ]
     },
     "execution_count": 128,
     "metadata": {},
     "output_type": "execute_result"
    }
   ],
   "source": [
    "input_distribution.shape"
   ]
  },
  {
   "cell_type": "code",
   "execution_count": 134,
   "metadata": {},
   "outputs": [
    {
     "data": {
      "image/png": "[encoded data removed]",
      "text/plain": [
       "<Figure size 432x288 with 1 Axes>"
      ]
     },
     "metadata": {
      "needs_background": "light"
     },
     "output_type": "display_data"
    }
   ],
   "source": [
    "# x location\n",
    "plt.hist(input_distribution[:, 0], bins=20)\n",
    "plt.xlabel('x coordinates')\n",
    "plt.ylabel('frequency')\n",
    "plt.title('Distribution of all track IDs\\' x coordinates')\n",
    "plt.show()"
   ]
  },
  {
   "cell_type": "code",
   "execution_count": 135,
   "metadata": {},
   "outputs": [
    {
     "data": {
      "image/png": "[encoded data removed]",
      "text/plain": [
       "<Figure size 432x288 with 1 Axes>"
      ]
     },
     "metadata": {
      "needs_background": "light"
     },
     "output_type": "display_data"
    }
   ],
   "source": [
    "# y location\n",
    "plt.hist(input_distribution[:, 1], bins=20)\n",
    "plt.xlabel('x coordinates')\n",
    "plt.ylabel('frequency')\n",
    "plt.title('Distribution of all track IDs\\' y coordinates')\n",
    "plt.show()"
   ]
  },
  {
   "cell_type": "markdown",
   "metadata": {},
   "source": [
    "### Create a loader to enable batch processing"
   ]
  },
  {
   "cell_type": "code",
   "execution_count": 71,
   "metadata": {},
   "outputs": [],
   "source": [
    "batch_sz = 4\n",
    "def my_collate(batch):\n",
    "    \"\"\" collate lists of samples into batches, create [ batch_sz x agent_sz x seq_len x feature] \"\"\"\n",
    "    inp = [numpy.dstack([scene['p_in'], scene['v_in']]) for scene in batch]\n",
    "    out = [numpy.dstack([scene['p_out'], scene['v_out']]) for scene in batch]\n",
    "    inp = torch.LongTensor(inp)\n",
    "    out = torch.LongTensor(out)\n",
    "    return [inp, out]\n",
    "val_loader = DataLoader(val_dataset,batch_size=batch_sz, shuffle = False, collate_fn=my_collate, num_workers=0)"
   ]
  },
  {
   "cell_type": "markdown",
   "metadata": {},
   "source": [
    "### Visualize the batch of sequences"
   ]
  },
  {
   "cell_type": "code",
   "execution_count": 5,
   "metadata": {},
   "outputs": [
    {
     "data": {
      "image/png": "[encoded data removed]",
      "text/plain": [
       "<Figure size 1080x216 with 4 Axes>"
      ]
     },
     "metadata": {},
     "output_type": "display_data"
    }
   ],
   "source": [
    "import matplotlib.pyplot as plt\n",
    "import random\n",
    "\n",
    "agent_id = 0\n",
    "\n",
    "def show_sample_batch(sample_batch, agent_id):\n",
    "    \"\"\"visualize the trajectory for a batch of samples with a randon agent\"\"\"\n",
    "    inp, out = sample_batch\n",
    "    batch_sz = inp.size(0)\n",
    "    agent_sz = inp.size(1)\n",
    "    \n",
    "    fig, axs = plt.subplots(1,batch_sz, figsize=(15, 3), facecolor='w', edgecolor='k')\n",
    "    fig.subplots_adjust(hspace = .5, wspace=.001)\n",
    "    axs = axs.ravel()   \n",
    "    for i in range(batch_sz):\n",
    "        axs[i].xaxis.set_ticks([])\n",
    "        axs[i].yaxis.set_ticks([])\n",
    "        \n",
    "        # first two feature dimensions are (x,y) positions\n",
    "        axs[i].scatter(inp[i, agent_id,:,0], inp[i, agent_id,:,1])\n",
    "        axs[i].scatter(out[i, agent_id,:,0], out[i, agent_id,:,1])\n",
    "\n",
    "        \n",
    "for i_batch, sample_batch in enumerate(val_loader):\n",
    "    inp, out = sample_batch\n",
    "    \"\"\"TODO:\n",
    "      Deep learning model\n",
    "      training routine\n",
    "    \"\"\"\n",
    "    show_sample_batch(sample_batch, agent_id)\n",
    "    break"
   ]
  },
  {
   "cell_type": "code",
   "execution_count": 19,
   "metadata": {},
   "outputs": [
    {
     "data": {
      "text/plain": [
       "torch.Size([60, 19, 4])"
      ]
     },
     "execution_count": 19,
     "metadata": {},
     "output_type": "execute_result"
    }
   ],
   "source": [
    "#first batch\n",
    "inp[0].shape"
   ]
  },
  {
   "cell_type": "code",
   "execution_count": 20,
   "metadata": {},
   "outputs": [
    {
     "data": {
      "text/plain": [
       "tensor([3277, 3277, 3277, 3277, 3277, 3277, 3277, 3277, 3277, 3277, 3277, 3277,\n",
       "        3277, 3277, 3277, 3277, 3277, 3277, 3277])"
      ]
     },
     "execution_count": 20,
     "metadata": {},
     "output_type": "execute_result"
    }
   ],
   "source": [
    "inp[0, 0, :, 0]"
   ]
  },
  {
   "cell_type": "code",
   "execution_count": 21,
   "metadata": {},
   "outputs": [
    {
     "data": {
      "text/plain": [
       "tensor([1947, 1947, 1947, 1947, 1947, 1947, 1947, 1947, 1947, 1947, 1947, 1947,\n",
       "        1947, 1947, 1947, 1947, 1947, 1947, 1947])"
      ]
     },
     "execution_count": 21,
     "metadata": {},
     "output_type": "execute_result"
    }
   ],
   "source": [
    "inp[0, 0, :, 1]"
   ]
  },
  {
   "cell_type": "code",
   "execution_count": null,
   "metadata": {},
   "outputs": [],
   "source": []
  },
  {
   "cell_type": "code",
   "execution_count": null,
   "metadata": {},
   "outputs": [],
   "source": []
  }
 ],
 "metadata": {
  "kernelspec": {
   "display_name": "Python 3",
   "language": "python",
   "name": "python3"
  },
  "language_info": {
   "codemirror_mode": {
    "name": "ipython",
    "version": 3
   },
   "file_extension": ".py",
   "mimetype": "text/x-python",
   "name": "python",
   "nbconvert_exporter": "python",
   "pygments_lexer": "ipython3",
   "version": "3.7.6"
  }
 },
 "nbformat": 4,
 "nbformat_minor": 4
}
